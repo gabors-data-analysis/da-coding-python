{
 "cells": [
  {
   "cell_type": "markdown",
   "id": "029ac591-e170-4dec-b8fe-6b12da9299a6",
   "metadata": {},
   "source": [
    "## Lecture 15 - Part I\n",
    "\n",
    "### datetime\n",
    "- [basics](#basics)\n",
    "- the [time module](#time)\n",
    "- time zone [awareness](#tzinfo)\n",
    "- datetime in [Pandas](#to_datetime)\n",
    "---"
   ]
  },
  {
   "cell_type": "markdown",
   "id": "307a32c5-c4c9-42ac-b2bb-8f123959c075",
   "metadata": {},
   "source": [
    "### Basics <a class='anchor' id=\"basics\"></a>"
   ]
  },
  {
   "cell_type": "markdown",
   "id": "8cd5fa3a-5337-48ba-8d20-dc560b2a02d6",
   "metadata": {},
   "source": [
    "Date is not a datatype in Python, but the `datetime` [module](https://docs.python.org/3.8/library/datetime.html) provides access to date and time functionalities. It defines `date`, `time` and `datetime` objects which provide the necessary tools to handle date and time, including timestamps."
   ]
  },
  {
   "cell_type": "code",
   "execution_count": null,
   "id": "09636049-8c1a-4223-8884-d7245ceedb5d",
   "metadata": {},
   "outputs": [],
   "source": [
    "import datetime"
   ]
  },
  {
   "cell_type": "code",
   "execution_count": null,
   "id": "3d39da80-9a82-488b-8534-e1b1c5c8f03d",
   "metadata": {},
   "outputs": [],
   "source": [
    "D = datetime.date(2022, 9, 1)\n",
    "T = datetime.time(12,0,0) # noon\n",
    "DT= datetime.datetime(2022, 9, 1, 14, 32, 23)"
   ]
  },
  {
   "cell_type": "code",
   "execution_count": null,
   "id": "ee16c574-e6dd-4270-9ad1-8d43251afd0a",
   "metadata": {},
   "outputs": [],
   "source": [
    "print('D:', D)\n",
    "print('T:', T)\n",
    "print('DT:', DT)"
   ]
  },
  {
   "cell_type": "code",
   "execution_count": null,
   "id": "94fcceee-6db5-48ec-b206-3ebb2a61cb02",
   "metadata": {},
   "outputs": [],
   "source": [
    "print('D:', type(D))\n",
    "print('T:', type(T))\n",
    "print('DT:', type(DT))"
   ]
  },
  {
   "cell_type": "markdown",
   "id": "acfb59ab-b680-4971-af08-4f28fccbb599",
   "metadata": {},
   "source": [
    "To make things simple you can always use the `datetime()` function by giving only the date parts as inputs. Hour, minute, and second default to zero. "
   ]
  },
  {
   "cell_type": "code",
   "execution_count": null,
   "id": "c2596671-db40-4b27-844c-35ed056f6bb4",
   "metadata": {},
   "outputs": [],
   "source": [
    "DT = datetime.datetime(2022, 9, 1)\n",
    "print('DT:', DT)"
   ]
  },
  {
   "cell_type": "markdown",
   "id": "9bf6358e-a26f-4b53-a4b8-2510786b78de",
   "metadata": {},
   "source": [
    "Datetime objects have useful date attributes."
   ]
  },
  {
   "cell_type": "code",
   "execution_count": null,
   "id": "fdfe2927-c820-4609-9c18-c858bf8ce9a6",
   "metadata": {},
   "outputs": [],
   "source": [
    "DN = datetime.datetime.now()\n",
    "print(DN.year)\n",
    "print(DN.month)\n",
    "print(DN.day)\n",
    "print(DN.hour)\n",
    "print(DN.minute)\n",
    "print(DN.second)"
   ]
  },
  {
   "cell_type": "markdown",
   "id": "9857ecc4-a0f1-48b1-92ff-9f207d698f37",
   "metadata": {},
   "source": [
    "Weekday code starts at 0 with Monday beeing 0."
   ]
  },
  {
   "cell_type": "code",
   "execution_count": null,
   "id": "c3190d3a-43f3-4b9e-ac33-29211710efe1",
   "metadata": {},
   "outputs": [],
   "source": [
    "print(DN.weekday()) # Note, that while year, month, etc are 'attributes', weekday() is a 'method'. That's why you need the perenthesis."
   ]
  },
  {
   "cell_type": "markdown",
   "id": "189300b1-c8be-4f75-a150-0cf76dc832fb",
   "metadata": {},
   "source": [
    "Math operations are also meaningful with datetime objects."
   ]
  },
  {
   "cell_type": "code",
   "execution_count": null,
   "id": "aedd58eb-de93-42ae-a402-d7332c976c81",
   "metadata": {},
   "outputs": [],
   "source": [
    "D1 = datetime.datetime(2010, 12, 10, 14, 32, 23)\n",
    "DN = datetime.datetime.now()\n",
    "dt = DN - D1\n",
    "print(dt)"
   ]
  },
  {
   "cell_type": "code",
   "execution_count": null,
   "id": "b30d1db0-5692-4708-9abc-bf067310d602",
   "metadata": {},
   "outputs": [],
   "source": [
    "type(dt)"
   ]
  },
  {
   "cell_type": "markdown",
   "id": "734a6aea-d832-4827-a7eb-7c2748f74851",
   "metadata": {},
   "source": [
    "These operations create a `timedelta` object. These objects also have the usual datetime attributes. "
   ]
  },
  {
   "cell_type": "code",
   "execution_count": null,
   "id": "fcd7445f-db67-4e13-9df3-ea90677a4153",
   "metadata": {},
   "outputs": [],
   "source": [
    "print(dt.days)"
   ]
  },
  {
   "cell_type": "markdown",
   "id": "2693c78c-a417-4571-bedb-eadf099afde0",
   "metadata": {},
   "source": [
    "The `timedelta()` function helps you create a datetime object from another datetime object. "
   ]
  },
  {
   "cell_type": "code",
   "execution_count": null,
   "id": "adcd58ca-ac72-4a37-9bdb-50aebef8a60a",
   "metadata": {},
   "outputs": [],
   "source": [
    "D0 = datetime.datetime(2022, 9, 1, 14, 32)\n",
    "D1 = D0 + datetime.timedelta(days = 3)\n",
    "print(D1)"
   ]
  },
  {
   "cell_type": "code",
   "execution_count": null,
   "id": "97864c90-db55-46c7-a865-320618de037e",
   "metadata": {},
   "outputs": [],
   "source": [
    "D2 = D0 - datetime.timedelta(hours = 1) # You can go back in time in both ways.\n",
    "D3 = D0 + datetime.timedelta(weeks = -2)\n",
    "print(D2)\n",
    "print(D3)"
   ]
  },
  {
   "cell_type": "markdown",
   "id": "1e7aa0d7-e5a1-443c-875c-b6746ef75cb4",
   "metadata": {},
   "source": [
    "`strptime()` (**str**ing **p**arse **time**) will cast a string to datetime."
   ]
  },
  {
   "cell_type": "code",
   "execution_count": null,
   "id": "607fd4dd-3630-45d8-a613-ec72fad40076",
   "metadata": {},
   "outputs": [],
   "source": [
    "d1 = '2022-04-30'\n",
    "d2 = 'April 30, 2022'"
   ]
  },
  {
   "cell_type": "code",
   "execution_count": null,
   "id": "29129bf7-3070-4c80-920d-da1a5771b327",
   "metadata": {},
   "outputs": [],
   "source": [
    "print('d1:', datetime.datetime.strptime( d1, '%Y-%m-%d'))\n",
    "print('d2:', datetime.datetime.strptime( d2, '%B %d, %Y'))"
   ]
  },
  {
   "cell_type": "markdown",
   "id": "db88a0d3-f9e7-4670-8c31-df09cf6da8c1",
   "metadata": {},
   "source": [
    "The opposite is `strftime()` (**str**ing **f**rom **time**), which is _datetime object method_, and only needs the *'format='* option as input. "
   ]
  },
  {
   "cell_type": "code",
   "execution_count": null,
   "id": "2ac50ade-e92e-4a20-bce8-4f791537b6fd",
   "metadata": {},
   "outputs": [],
   "source": [
    "DT = datetime.datetime(2022, 4, 30, 14, 32, 0)\n",
    "print(DT)\n",
    "print(DT.strftime('%Y-%m-%d'))\n",
    "print(DT.strftime('%B %d, %Y'))"
   ]
  },
  {
   "cell_type": "markdown",
   "id": "61492ea6-76f1-4161-b5f1-b350481100b0",
   "metadata": {},
   "source": [
    "The type casting between strings and datetime, together with the string format codes can be found in the [datetime documentation](https://docs.python.org/3.8/library/datetime.html#strftime-strptime-behavior)."
   ]
  },
  {
   "cell_type": "markdown",
   "id": "b40aeb85-002b-4511-aeb7-61c968ca048f",
   "metadata": {},
   "source": [
    "### The `time` Module <a class='anchor' id='time'></a>"
   ]
  },
  {
   "cell_type": "code",
   "execution_count": null,
   "id": "44ac4b76-c2d2-484a-9d5f-6d124c07371a",
   "metadata": {},
   "outputs": [],
   "source": [
    "import time"
   ]
  },
  {
   "cell_type": "code",
   "execution_count": null,
   "id": "223b05c5-390d-4499-b8b6-84aa1ac176d2",
   "metadata": {},
   "outputs": [],
   "source": [
    "print(time.time())"
   ]
  },
  {
   "cell_type": "markdown",
   "id": "e7f7bc1b-edb5-45f2-ac27-84530be7100a",
   "metadata": {},
   "source": [
    "`time.time()` will return the *current time* in seconds since the [*UNIX epoch*](https://en.wikipedia.org/wiki/Unix_time), or January 1, 1970. This is ***almost*** the number of seconds since midnight that reference day, excluding leap seconds. The `time` module gives two useful functions: `time()` and `sleep()`. "
   ]
  },
  {
   "cell_type": "code",
   "execution_count": null,
   "id": "771e063f-11c4-4d79-a857-e2c0cd4fdde7",
   "metadata": {},
   "outputs": [],
   "source": [
    "n = 0\n",
    "\n",
    "while n < 5:\n",
    "    print(time.time())\n",
    "    time.sleep(2)\n",
    "    n += 1"
   ]
  },
  {
   "cell_type": "markdown",
   "id": "0f21f341-3bde-4ba0-ac5e-05a48a10717d",
   "metadata": {
    "tags": []
   },
   "source": [
    "### Aware And Naive Timestamps <a class='anchor' id='tzinfo'></a>"
   ]
  },
  {
   "cell_type": "code",
   "execution_count": null,
   "id": "7f401d96-868b-4943-a31a-5725bec9595c",
   "metadata": {},
   "outputs": [],
   "source": [
    "D = datetime.datetime(2021,9,28,1,0,15)\n",
    "D"
   ]
  },
  {
   "cell_type": "markdown",
   "id": "c15ac5c7-00cc-4887-ad83-636c8e619ce1",
   "metadata": {},
   "source": [
    "Date and time objects may be categorized as “**aware**” or “**naive**” depending on whether or not they include timezone information. Our D variable is *naive*."
   ]
  },
  {
   "cell_type": "code",
   "execution_count": null,
   "id": "d0d812c5-6b28-4ef8-b49f-106f56430263",
   "metadata": {},
   "outputs": [],
   "source": [
    "print(D.tzinfo)"
   ]
  },
  {
   "cell_type": "code",
   "execution_count": null,
   "id": "66fb67b0-c439-4a14-b0cf-1227b384b323",
   "metadata": {},
   "outputs": [],
   "source": [
    "# Python timezone module\n",
    "import pytz"
   ]
  },
  {
   "cell_type": "code",
   "execution_count": null,
   "id": "b2615346-d348-48d5-ad41-b67fec860b99",
   "metadata": {},
   "outputs": [],
   "source": [
    "D_V = D.astimezone(pytz.timezone(\"Europe/Vienna\"))"
   ]
  },
  {
   "cell_type": "code",
   "execution_count": null,
   "id": "73344a93-01dd-4d56-ae84-ca3540cd3bbe",
   "metadata": {},
   "outputs": [],
   "source": [
    "print(D_V.tzinfo)"
   ]
  },
  {
   "cell_type": "code",
   "execution_count": null,
   "id": "d06f3790-4517-423e-8265-7923b14f9adb",
   "metadata": {},
   "outputs": [],
   "source": [
    "print(D_V)\n",
    "print(D_V.hour)"
   ]
  },
  {
   "cell_type": "code",
   "execution_count": null,
   "id": "8da037dd-9c61-4a03-a308-126a3b983093",
   "metadata": {},
   "outputs": [],
   "source": [
    "# What would it be in Denver, CO?\n",
    "D_D = D_V.astimezone(pytz.timezone(\"America/Denver\"))\n",
    "print(D_D)\n",
    "print(D_D.hour)\n",
    "print(D_D.tzinfo)"
   ]
  },
  {
   "cell_type": "markdown",
   "id": "104898fd-e333-48aa-af08-28a8483d4ae9",
   "metadata": {},
   "source": [
    "While at first blush these two object look different, the difference between them is zero."
   ]
  },
  {
   "cell_type": "code",
   "execution_count": null,
   "id": "0550a695-48ea-4ef4-b8ee-d4988e80543e",
   "metadata": {},
   "outputs": [],
   "source": [
    "D_D - D_V"
   ]
  },
  {
   "cell_type": "markdown",
   "id": "973a633b-e2ec-448f-804e-bd4226d77846",
   "metadata": {},
   "source": [
    "While this looks to be a minor issue, in reality timezone awareness (or the lack of it) can create a mess in your code if you don't check your datetime data. Interactions with databases can be very tricky, because they may return your timestamps and datetime data in a different timezone as you have entered. Also, some modules, like [fbProphet](https://facebook.github.io/prophet/), are picky regarding timezone awareness. \n",
    "\n",
    "Finally, list of Python timezones can be found [here](https://gist.github.com/heyalexej/8bf688fd67d7199be4a1682b3eec7568) or by runing the \n",
    "```\n",
    "pytz.all_timezones\n",
    "```\n",
    "command."
   ]
  },
  {
   "cell_type": "markdown",
   "id": "9d451fdb-b1dd-49e0-9a7e-3e9c02904ea9",
   "metadata": {},
   "source": [
    "### Datetime In Pandas <a class = 'anchor' id = 'to_datetime'></a>"
   ]
  },
  {
   "cell_type": "markdown",
   "id": "2001d198-cb64-4613-8004-d8b2b17a2da2",
   "metadata": {},
   "source": [
    "Pandas has the `to_datetime()` module to effectively handle date and time information."
   ]
  },
  {
   "cell_type": "code",
   "execution_count": null,
   "id": "8622f26c-c914-4356-a465-efd21e3952c8",
   "metadata": {},
   "outputs": [],
   "source": [
    "import pandas as pd"
   ]
  },
  {
   "cell_type": "code",
   "execution_count": null,
   "id": "fa950ea5-2250-4d16-9ed6-2ed0c0dbabbd",
   "metadata": {},
   "outputs": [],
   "source": [
    "df = pd.DataFrame(\n",
    "    {\n",
    "        'year': [2022, 2022, 2021],\n",
    "        'month': [12, 11, 9],\n",
    "        'day': [15, 14, 9],\n",
    "        'hour': [23, 20, 6],\n",
    "        'data': ['a', 'b', 'b']\n",
    "    }\n",
    ")"
   ]
  },
  {
   "cell_type": "code",
   "execution_count": null,
   "id": "c45db85d-7b04-4bdb-aae8-9010d32f1c13",
   "metadata": {},
   "outputs": [],
   "source": [
    "df"
   ]
  },
  {
   "cell_type": "code",
   "execution_count": null,
   "id": "5a193f1c-61fc-4fcf-9f35-c27606b212df",
   "metadata": {},
   "outputs": [],
   "source": [
    "df['date'] = pd.to_datetime(df[['year', 'month', 'day']])"
   ]
  },
  {
   "cell_type": "code",
   "execution_count": null,
   "id": "ca09e3e5-7786-4a5d-9c5f-56833ccccc6d",
   "metadata": {},
   "outputs": [],
   "source": [
    "df"
   ]
  },
  {
   "cell_type": "markdown",
   "id": "922dbbe2-4230-4013-9363-0c50e523f510",
   "metadata": {},
   "source": [
    "The new column is a *Pandas timestamp*."
   ]
  },
  {
   "cell_type": "code",
   "execution_count": null,
   "id": "fd33ceb4-b990-4f46-a487-a2949d8f2630",
   "metadata": {},
   "outputs": [],
   "source": [
    "type(df.date.iloc[0])"
   ]
  },
  {
   "cell_type": "code",
   "execution_count": null,
   "id": "4b934043-b34d-4eb0-867a-6aa6e3c66384",
   "metadata": {},
   "outputs": [],
   "source": [
    "df['date_hour'] = pd.to_datetime(df[['year', 'month', 'day', 'hour']])"
   ]
  },
  {
   "cell_type": "code",
   "execution_count": null,
   "id": "40fcea4c-52d1-4c37-b359-b79c402ec59b",
   "metadata": {},
   "outputs": [],
   "source": [
    "df"
   ]
  },
  {
   "cell_type": "markdown",
   "id": "31b92cd9-4f80-4e3c-8bc2-8d8be9f439ee",
   "metadata": {},
   "source": [
    "`to_datetime()` also parses string into datetime. "
   ]
  },
  {
   "cell_type": "code",
   "execution_count": null,
   "id": "cef2350a-5ec4-4e24-ab1c-667d86c4bc9f",
   "metadata": {},
   "outputs": [],
   "source": [
    "df = pd.DataFrame(\n",
    "    {\n",
    "        'date': ['April 30, 2022', 'May 1, 2022', 'May 2, 2022'],\n",
    "        'data': ['a', 'b', 'b']\n",
    "    }\n",
    ")"
   ]
  },
  {
   "cell_type": "code",
   "execution_count": null,
   "id": "f31ad524-1e5b-4222-856e-85931d2aafc9",
   "metadata": {},
   "outputs": [],
   "source": [
    "df"
   ]
  },
  {
   "cell_type": "code",
   "execution_count": null,
   "id": "b78b0423-f51e-494f-8a4b-cd1f147fc8dd",
   "metadata": {},
   "outputs": [],
   "source": [
    "df['date'] = pd.to_datetime(df.date) # Using the 'format=' option you can help the function to parse string input but many usual formats are automatically parsed into the correct time value. "
   ]
  },
  {
   "cell_type": "code",
   "execution_count": null,
   "id": "c3d6e8fa-bf95-43f2-9134-e27c311b53bd",
   "metadata": {},
   "outputs": [],
   "source": [
    "df"
   ]
  }
 ],
 "metadata": {
  "kernelspec": {
   "display_name": "Python 3.10.4 64-bit",
   "language": "python",
   "name": "python3"
  },
  "language_info": {
   "codemirror_mode": {
    "name": "ipython",
    "version": 3
   },
   "file_extension": ".py",
   "mimetype": "text/x-python",
   "name": "python",
   "nbconvert_exporter": "python",
   "pygments_lexer": "ipython3",
   "version": "3.10.4"
  },
  "vscode": {
   "interpreter": {
    "hash": "31f2aee4e71d21fbe5cf8b01ff0e069b9275f58929596ceb00d14d90e3e16cd6"
   }
  }
 },
 "nbformat": 4,
 "nbformat_minor": 5
}
