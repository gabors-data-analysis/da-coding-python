{
 "cells": [
  {
   "cell_type": "markdown",
   "id": "e8ebba6b",
   "metadata": {},
   "source": [
    "## Lecture 15 – Part II          \n",
    "                                             \n",
    " Date and time manipulations               \n",
    "   - tidyquant to get macro data           \n",
    "   - plotting time-series data             \n",
    "       - scale_x_date()                    \n",
    "   - Aggregating time-series data          \n",
    "       - mean/median or last day           \n",
    "   - Plotting multiple time-series         \n",
    "       - stacked plots with facet_wrap()   \n",
    "       - standardizing multiple variables  \n",
    "           and plot them together          \n",
    "   - Unit root tests                       \n",
    "       - Philip-Perron test                \n",
    "       - do differenced variables:         \n",
    "           simple difference,              \n",
    "           percentage change   \n",
    "___"
   ]
  },
  {
   "cell_type": "code",
   "execution_count": null,
   "id": "ed186dcf",
   "metadata": {},
   "outputs": [],
   "source": [
    "import pandas as pd\n",
    "import numpy as np\n",
    "from plotnine import *\n",
    "from datetime import datetime\n",
    "from mizani.breaks import date_breaks\n",
    "from mizani.formatters import date_format\n",
    "from fredapi import Fred\n",
    "import warnings\n",
    "\n",
    "%matplotlib inline\n",
    "warnings.filterwarnings(\"ignore\")"
   ]
  },
  {
   "cell_type": "markdown",
   "id": "7d0216cd",
   "metadata": {},
   "source": [
    "To access time series data through Fred API, first you have to create a free account at the [Fred website](https://fred.stlouisfed.org/#), then request a free API key [here](https://fred.stlouisfed.org/docs/api/api_key.html)"
   ]
  },
  {
   "cell_type": "code",
   "execution_count": null,
   "id": "c95130b2",
   "metadata": {},
   "outputs": [],
   "source": [
    "#fred = Fred(api_key='insert api key here')\n",
    "fred = Fred(api_key='4a7c4684a660546c9e0ae87a7b47cc45')"
   ]
  },
  {
   "cell_type": "markdown",
   "id": "f6829023",
   "metadata": {},
   "source": [
    "Get three data-tables:\n",
    "\n",
    "  1. US GDP levels - quarterly from 1979Q1\n",
    "  2. Inflation (CPI level) - monthly from 1978-12 \n",
    "  3. SP500 closing prices - daily from 1997-12-31 - 2018-12-3"
   ]
  },
  {
   "cell_type": "code",
   "execution_count": null,
   "id": "f18959f4",
   "metadata": {},
   "outputs": [],
   "source": [
    "gdp = (\n",
    "    fred.get_series_latest_release(\"GDP\")\n",
    "    .loc[lambda x: x.index >= \"1979-01-01\"]\n",
    "    .to_frame()\n",
    "    .reset_index()\n",
    "    .rename(columns={\"index\":\"date\",0:\"gdp\"})\n",
    ")\n",
    "gdp.head()"
   ]
  },
  {
   "cell_type": "code",
   "execution_count": null,
   "id": "c59c9dd6",
   "metadata": {},
   "outputs": [],
   "source": [
    "inflation = (\n",
    "    fred.get_series_latest_release(\"USACPIALLMINMEI\")\n",
    "    .loc[lambda x: x.index >= \"1978-01-01\"]\n",
    "    .to_frame()\n",
    "    .reset_index()\n",
    "    .rename(columns={\"index\": \"date\", 0: \"price\"})\n",
    ")\n",
    "inflation.head()"
   ]
  },
  {
   "cell_type": "markdown",
   "id": "ec388a01",
   "metadata": {},
   "source": [
    "We want year-on-year changes"
   ]
  },
  {
   "cell_type": "code",
   "execution_count": null,
   "id": "fd89c0bc",
   "metadata": {},
   "outputs": [],
   "source": [
    "inflation = inflation.assign(inflation=lambda x: x[\"price\"] - x[\"price\"].shift(12)).loc[\n",
    "    lambda x: x[\"date\"] >= \"1979-01-01\"\n",
    "]\n",
    "\n",
    "inflation.head()"
   ]
  },
  {
   "cell_type": "markdown",
   "id": "0bdbc0d9",
   "metadata": {},
   "source": [
    "SP500 Stock Prices\n"
   ]
  },
  {
   "cell_type": "code",
   "execution_count": null,
   "id": "dac7fad7",
   "metadata": {},
   "outputs": [],
   "source": [
    "sp500 = (\n",
    "    pd.read_csv(\"https://osf.io/fpkm4/download\")\n",
    "    .filter([\"date\", \"p_SP500\"])\n",
    "    .rename(columns={\"p_SP500\": \"price\"})\n",
    ")\n",
    "sp500[\"date\"] = pd.to_datetime(sp500[\"date\"]) # since we import this from a csv file, we have to tell python, the type\n",
    "sp500.head()"
   ]
  },
  {
   "cell_type": "markdown",
   "id": "5fb64ba1",
   "metadata": {},
   "source": [
    "### Plot time-series\n",
    "\n",
    "GDP"
   ]
  },
  {
   "cell_type": "code",
   "execution_count": null,
   "id": "3fe86be8",
   "metadata": {},
   "outputs": [],
   "source": [
    "(\n",
    "    ggplot(gdp, aes(x=\"date\", y=\"gdp\"))\n",
    "    + geom_line(color=\"red\", size=1)\n",
    "    + labs(x=\"Year\", y=\"GDP (billions)\")\n",
    "    + theme_bw()\n",
    ")"
   ]
  },
  {
   "cell_type": "markdown",
   "id": "0c82fece",
   "metadata": {},
   "source": [
    " Highly exponentially trending (and there is seasonality)...\n"
   ]
  },
  {
   "cell_type": "markdown",
   "id": "90c0ab6f",
   "metadata": {},
   "source": [
    "Inflation"
   ]
  },
  {
   "cell_type": "code",
   "execution_count": null,
   "id": "7bd8225b",
   "metadata": {},
   "outputs": [],
   "source": [
    "(\n",
    "    ggplot(inflation, aes(x=\"date\", y=\"inflation\"))\n",
    "    + geom_line(color=\"red\", size=1)\n",
    "    + labs(x=\"Year\", y=\"Inflation\")\n",
    "    + theme_bw()\n",
    ")"
   ]
  },
  {
   "cell_type": "markdown",
   "id": "ddef608f",
   "metadata": {},
   "source": [
    " Seems like stationary, but it is not... (we will see)"
   ]
  },
  {
   "cell_type": "markdown",
   "id": "7de55e06",
   "metadata": {},
   "source": [
    "SP500 prices"
   ]
  },
  {
   "cell_type": "code",
   "execution_count": null,
   "id": "d65971d9",
   "metadata": {},
   "outputs": [],
   "source": [
    "(\n",
    "    ggplot(sp500, aes(x=\"date\", y=\"price\"))\n",
    "    + geom_line(color=\"red\", size=0.5)\n",
    "    + labs(x=\"Date\", y=\"Price ($)\")\n",
    "    + theme_bw()\n",
    ")"
   ]
  },
  {
   "cell_type": "markdown",
   "id": "0c244ae1",
   "metadata": {},
   "source": [
    "Classical random walk"
   ]
  },
  {
   "cell_type": "markdown",
   "id": "3fa0977c",
   "metadata": {},
   "source": [
    "### De-tour: date-time variable on axis:"
   ]
  },
  {
   "cell_type": "markdown",
   "id": "f424f235",
   "metadata": {},
   "source": [
    "Yearly tickers with limits and minor breaks\n"
   ]
  },
  {
   "cell_type": "code",
   "execution_count": null,
   "id": "bbccdbb0",
   "metadata": {},
   "outputs": [],
   "source": [
    "(\n",
    "    ggplot(sp500, aes(x=\"date\", y=\"price\"))\n",
    "    + geom_line(color=\"red\", size=0.5)\n",
    "    + labs(x=\"Date\", y=\"Price ($)\")\n",
    "    + scale_x_date(\n",
    "        date_breaks=\"3 year\",\n",
    "        date_minor_breaks=\"1 year\",\n",
    "        date_labels=\"%Y\",\n",
    "        limits=(datetime(1997, 1, 1), datetime(2020, 1, 1)),\n",
    "    )\n",
    "    + theme_bw()\n",
    ")"
   ]
  },
  {
   "cell_type": "markdown",
   "id": "8a97de42",
   "metadata": {},
   "source": [
    "Monthly tickers with limits and minor breaks"
   ]
  },
  {
   "cell_type": "code",
   "execution_count": null,
   "id": "a61f891d",
   "metadata": {},
   "outputs": [],
   "source": [
    "(\n",
    "    ggplot(sp500.loc[lambda x: x[\"date\"] > \"2018-01-01\"], aes(x=\"date\", y=\"price\"))\n",
    "    + geom_line(color=\"red\", size=0.5)\n",
    "    + labs(x=\"Date\", y=\"Price ($)\")\n",
    "    + scale_x_date(\n",
    "        date_breaks=\"3 month\",\n",
    "        date_minor_breaks=\"1 month\",\n",
    "        date_labels=\"%b %Y\",\n",
    "        limits=(datetime(2018, 1, 1), datetime(2019, 1, 1)),\n",
    "    )\n",
    "    + theme_bw()\n",
    ")"
   ]
  },
  {
   "cell_type": "markdown",
   "id": "00f79f4f",
   "metadata": {},
   "source": [
    "### Task:\n",
    "\n",
    "Use monthly tickers between 2008-2010 and change the frequency of the breaks\n",
    "\n",
    "use `%m` with `-` sign or `%B` instead of `%b`\n",
    "\n",
    "\n",
    "Monthly tickers with limits and minor breaks"
   ]
  },
  {
   "cell_type": "code",
   "execution_count": null,
   "id": "e31be147",
   "metadata": {},
   "outputs": [],
   "source": [
    "(\n",
    "    ggplot(\n",
    "        sp500.loc[lambda x: x[\"date\"] > \"2008-01-01\"].loc[\n",
    "            lambda x: x[\"date\"] < \"2011-01-01\"\n",
    "        ],\n",
    "        aes(x=\"date\", y=\"price\"),\n",
    "    )\n",
    "    + geom_line(color=\"red\", size=0.5)\n",
    "    + labs(x=\"Date\", y=\"Price ($)\")\n",
    "    + scale_x_date(\n",
    "        date_breaks=\"6 month\",\n",
    "        date_minor_breaks=\"3 month\",\n",
    "        date_labels=\"%Y-%m\",\n",
    "        limits=(datetime(2008, 1, 1), datetime(2011, 1, 1)),\n",
    "    )\n",
    "    + theme_bw()\n",
    ")"
   ]
  },
  {
   "cell_type": "markdown",
   "id": "f27bfa2d",
   "metadata": {},
   "source": [
    "### Aggregation: put everything into the same frequency"
   ]
  },
  {
   "cell_type": "markdown",
   "id": "cefa2f28",
   "metadata": {},
   "source": [
    "Base data-table is GDP"
   ]
  },
  {
   "cell_type": "code",
   "execution_count": null,
   "id": "3430dc34",
   "metadata": {},
   "outputs": [],
   "source": [
    "df = gdp.rename(columns={\"date\": \"time\"})"
   ]
  },
  {
   "cell_type": "markdown",
   "id": "fa8aa765",
   "metadata": {},
   "source": [
    " 1st: Aggregate inflat to quarterly frequency:\n",
    "\n",
    " Add years and quarters"
   ]
  },
  {
   "cell_type": "code",
   "execution_count": null,
   "id": "51963825",
   "metadata": {},
   "outputs": [],
   "source": [
    "inflation[\"quarter\"] = inflation[\"date\"].dt.quarter.astype(str)\n",
    "inflation[\"year\"] = inflation[\"date\"].dt.year.astype(str)"
   ]
  },
  {
   "cell_type": "markdown",
   "id": "85a1b94d",
   "metadata": {},
   "source": [
    "Average for inflation (median or other measure is also good if reasonable)"
   ]
  },
  {
   "cell_type": "code",
   "execution_count": null,
   "id": "91d9588f",
   "metadata": {},
   "outputs": [],
   "source": [
    "agg_inflation = inflation.groupby([\"year\",\"quarter\"])[\"inflation\"].mean().reset_index()"
   ]
  },
  {
   "cell_type": "code",
   "execution_count": null,
   "id": "84b44192",
   "metadata": {},
   "outputs": [],
   "source": [
    "agg_inflation[\"date\"] = agg_inflation[\"year\"] + \"-Q\" + agg_inflation[\"quarter\"]\n",
    "agg_inflation[\"time\"] = pd.to_datetime(agg_inflation[\"date\"])"
   ]
  },
  {
   "cell_type": "markdown",
   "id": "8d41ecd0",
   "metadata": {},
   "source": [
    "Join to df\n"
   ]
  },
  {
   "cell_type": "code",
   "execution_count": null,
   "id": "c629494b",
   "metadata": {},
   "outputs": [],
   "source": [
    "df = df.merge(agg_inflation.filter([\"time\",\"inflation\"]), on = \"time\")"
   ]
  },
  {
   "cell_type": "markdown",
   "id": "b5e542dd",
   "metadata": {},
   "source": [
    "### Task:\n",
    "\n",
    "Aggregate SP500 prices to quarterly frequency, with the last closing price at each period\n"
   ]
  },
  {
   "cell_type": "markdown",
   "id": "82f24855",
   "metadata": {},
   "source": [
    "Add years and quarters"
   ]
  },
  {
   "cell_type": "code",
   "execution_count": null,
   "id": "edbbe52b",
   "metadata": {},
   "outputs": [],
   "source": [
    "sp500[\"quarter\"] = sp500[\"date\"].dt.quarter.astype(str)\n",
    "sp500[\"year\"] = sp500[\"date\"].dt.year.astype(str)"
   ]
  },
  {
   "cell_type": "markdown",
   "id": "40268773",
   "metadata": {},
   "source": [
    "Last day for each quarters ('closing price')"
   ]
  },
  {
   "cell_type": "code",
   "execution_count": null,
   "id": "bb19375e",
   "metadata": {},
   "outputs": [],
   "source": [
    "agg_sp500 = (\n",
    "    sp500.sort_values(by=[\"date\"])\n",
    "    .groupby([\"year\", \"quarter\"])\n",
    "    .agg(date=(\"date\", \"max\"))\n",
    "    .merge(sp500, on=\"date\", how=\"left\")\n",
    ")"
   ]
  },
  {
   "cell_type": "code",
   "execution_count": null,
   "id": "c7ca65ff",
   "metadata": {},
   "outputs": [],
   "source": [
    "agg_sp500[\"date\"] = agg_sp500[\"year\"] + \"-Q\" + agg_sp500[\"quarter\"]\n",
    "agg_sp500[\"time\"] = pd.to_datetime(agg_sp500[\"date\"])"
   ]
  },
  {
   "cell_type": "code",
   "execution_count": null,
   "id": "d9e6e41c",
   "metadata": {},
   "outputs": [],
   "source": [
    "df = df.merge(agg_sp500.filter([\"time\",\"price\"]), on = \"time\", how = \"left\")"
   ]
  },
  {
   "cell_type": "code",
   "execution_count": null,
   "id": "7c3b0051",
   "metadata": {},
   "outputs": [],
   "source": [
    "# Filter data from 1997-10\n",
    "df = df.loc[lambda x: x[\"time\"]>=\"1997-10-01\"]"
   ]
  },
  {
   "cell_type": "code",
   "execution_count": null,
   "id": "35730afa",
   "metadata": {},
   "outputs": [],
   "source": [
    "df"
   ]
  },
  {
   "cell_type": "markdown",
   "id": "87b45295",
   "metadata": {},
   "source": [
    "### Visualization of the data"
   ]
  },
  {
   "cell_type": "markdown",
   "id": "550bfe9f",
   "metadata": {},
   "source": [
    "NO 1: check the time-series in different graphs:"
   ]
  },
  {
   "cell_type": "markdown",
   "id": "83552690",
   "metadata": {},
   "source": [
    "need a trick to create a new stacked data to color by a variable"
   ]
  },
  {
   "cell_type": "code",
   "execution_count": null,
   "id": "77fac7bc",
   "metadata": {},
   "outputs": [],
   "source": [
    "df_long = df.melt(id_vars=\"time\", var_name=\"type\", value_name=\"values\")\n",
    "\n",
    "(\n",
    "    ggplot(df_long, aes(x=\"time\", y=\"values\", color=\"type\"))\n",
    "    + geom_line()\n",
    "    + facet_wrap(\n",
    "        \"~type\",\n",
    "        scales=\"free\",\n",
    "        ncol=1,\n",
    "        labeller={\n",
    "            \"price\": \"SP500 price\",\n",
    "            \"gdp\": \"GDP (millions)\",\n",
    "            \"inflation\": \"Inflation (%)\",\n",
    "        },\n",
    "    )\n",
    "    + labs(x=\"Years\", y=\"\")\n",
    "    + scale_x_date(\n",
    "        date_breaks=\"3 year\",\n",
    "        date_minor_breaks=\"1 year\",\n",
    "        date_labels=\"%Y\",\n",
    "        limits=(datetime(1997, 1, 1), datetime(2020, 1, 1)),\n",
    "    )\n",
    "    + scale_color_discrete(guide=False)\n",
    "    + theme_bw()\n",
    ")"
   ]
  },
  {
   "cell_type": "markdown",
   "id": "9dd7748f",
   "metadata": {},
   "source": [
    "## Analyzing time-series properties:"
   ]
  },
  {
   "cell_type": "code",
   "execution_count": null,
   "id": "029b5a54",
   "metadata": {},
   "outputs": [],
   "source": [
    "from arch.unitroot import PhillipsPerron"
   ]
  },
  {
   "cell_type": "code",
   "execution_count": null,
   "id": "8fbf8973",
   "metadata": {},
   "outputs": [],
   "source": [
    "print(PhillipsPerron(df[\"gdp\"], lags=4, test_type=\"rho\"))\n",
    "print(PhillipsPerron(df[\"inflation\"], lags=4, test_type=\"rho\"))\n",
    "print(PhillipsPerron(df[\"price\"].dropna(), lags=4, test_type=\"rho\"))"
   ]
  },
  {
   "cell_type": "markdown",
   "id": "d6204374",
   "metadata": {},
   "source": [
    "The PP tests suggest that all three variables are non-stationary (tehy contain a unit root)."
   ]
  },
  {
   "cell_type": "markdown",
   "id": "6e32e8b4",
   "metadata": {},
   "source": [
    "Lets check percent change for gdp and price and differenced value for inflation:\n"
   ]
  },
  {
   "cell_type": "code",
   "execution_count": null,
   "id": "2188d03e",
   "metadata": {},
   "outputs": [],
   "source": [
    "df = df.assign(\n",
    "    dgdp=lambda x: 100 * (x[\"gdp\"] - x[\"gdp\"].shift(1)) / x[\"gdp\"],\n",
    "    dinflation=lambda x: (x[\"inflation\"] - x[\"inflation\"].shift(1)),\n",
    "    return_=lambda x: 100 * (x[\"price\"] - x[\"price\"].shift(1)) / x[\"price\"],\n",
    ")"
   ]
  },
  {
   "cell_type": "markdown",
   "id": "fc0e4c9d",
   "metadata": {},
   "source": [
    "### Task\n",
    "\n",
    "Check again the Philip-Perron tests!"
   ]
  },
  {
   "cell_type": "code",
   "execution_count": null,
   "id": "e48e9bca",
   "metadata": {},
   "outputs": [],
   "source": [
    "print(PhillipsPerron(df[\"dgdp\"].dropna(), lags=4, test_type=\"rho\"))\n",
    "print(PhillipsPerron(df[\"dinflation\"].dropna(), lags=4, test_type=\"rho\"))\n",
    "print(PhillipsPerron(df[\"return_\"].dropna(), lags=4, test_type=\"rho\"))"
   ]
  },
  {
   "cell_type": "markdown",
   "id": "011d4d7f",
   "metadata": {},
   "source": [
    "NO2 visualise standardised series"
   ]
  },
  {
   "cell_type": "code",
   "execution_count": null,
   "id": "4b0b028a",
   "metadata": {},
   "outputs": [],
   "source": [
    "stdd = lambda x: (x - np.nanmean(x)) / x.std()\n",
    "df_long = (\n",
    "    df.dropna()\n",
    "    .set_index(\"time\")\n",
    "    .filter([\"dgdp\", \"dinflation\", \"return_\"])\n",
    "    .apply(stdd)\n",
    "    .reset_index()\n",
    "    .melt(id_vars=\"time\", value_vars=[\"dgdp\", \"dinflation\", \"return_\"])\n",
    ")"
   ]
  },
  {
   "cell_type": "code",
   "execution_count": null,
   "id": "a8b3349f",
   "metadata": {},
   "outputs": [],
   "source": [
    "(\n",
    "    (ggplot(df_long, aes(x=\"time\", y=\"value\", color=\"variable\")) + geom_line())\n",
    "    + scale_color_manual(\n",
    "        name=\"Variable\",\n",
    "        values={\"dgdp\": \"red\", \"dinflation\": \"blue\", \"return_\": \"green\"},\n",
    "        labels={\n",
    "            \"dgdp\": \"GDP change\",\n",
    "            \"dinflation\": \"Inflation change\",\n",
    "            \"return_\": \"SP500 return\",\n",
    "        },\n",
    "    )\n",
    "    + labs(x=\"Years\", y=\"Standardized values\")\n",
    "    + scale_x_date(\n",
    "        date_breaks=\"3 year\",\n",
    "        date_minor_breaks=\"1 year\",\n",
    "        date_labels=\"%Y\",\n",
    "        limits=(datetime(1997, 1, 1), datetime(2020, 1, 1)),\n",
    "    )\n",
    "    + theme_bw()\n",
    "    + theme(legend_position=\"top\", legend_title=element_blank())\n",
    ")"
   ]
  },
  {
   "cell_type": "markdown",
   "id": "33e25dd9",
   "metadata": {},
   "source": [
    "### For association, can check scatter plots: \n"
   ]
  },
  {
   "cell_type": "markdown",
   "id": "adf4186b",
   "metadata": {},
   "source": [
    "GDP and inflation"
   ]
  },
  {
   "cell_type": "code",
   "execution_count": null,
   "id": "bd416712",
   "metadata": {},
   "outputs": [],
   "source": [
    "(\n",
    "    ggplot(df, aes(x=\"dgdp\", y=\"dinflation\"))\n",
    "    + geom_point(size=1, color=\"red\")\n",
    "    + geom_smooth(method=\"lm\", formula=\"y~x\", se=False)\n",
    "    + labs(x=\"GDP quarterly change (%)\", y=\"Inflation YoY change (%)\")\n",
    "    + theme_bw()\n",
    ")"
   ]
  },
  {
   "cell_type": "markdown",
   "id": "db84fa1c",
   "metadata": {},
   "source": [
    "GDP and SP500 returns"
   ]
  },
  {
   "cell_type": "code",
   "execution_count": null,
   "id": "0f185c31",
   "metadata": {},
   "outputs": [],
   "source": [
    "(\n",
    "    ggplot(df, aes(x=\"dgdp\", y=\"return_\"))\n",
    "    + geom_point(size=1, color=\"red\")\n",
    "    + geom_smooth(method=\"lm\", formula=\"y~x\", se=False)\n",
    "    + labs(x=\"GDP quarterly change (%)\", y=\"SP500 quarterly returns (%)\")\n",
    "    + theme_bw()\n",
    ")"
   ]
  },
  {
   "cell_type": "markdown",
   "id": "c7fb8d5f",
   "metadata": {},
   "source": [
    "SP500 returns and inflation"
   ]
  },
  {
   "cell_type": "code",
   "execution_count": null,
   "id": "f65d0efd",
   "metadata": {},
   "outputs": [],
   "source": [
    "(\n",
    "    ggplot(df, aes(x=\"return_\", y=\"dinflation\"))\n",
    "    + geom_point(size=1, color=\"red\")\n",
    "    + geom_smooth(method=\"lm\", formula=\"y~x\", se=False)\n",
    "    + labs(x=\"GDP quarterly change (%)\", y=\"Inflation YoY change (%)\")\n",
    "    + theme_bw()\n",
    ")"
   ]
  }
 ],
 "metadata": {
  "kernelspec": {
   "display_name": "Python 3.10.4 64-bit",
   "language": "python",
   "name": "python3"
  },
  "language_info": {
   "codemirror_mode": {
    "name": "ipython",
    "version": 3
   },
   "file_extension": ".py",
   "mimetype": "text/x-python",
   "name": "python",
   "nbconvert_exporter": "python",
   "pygments_lexer": "ipython3",
   "version": "3.10.4"
  },
  "vscode": {
   "interpreter": {
    "hash": "31f2aee4e71d21fbe5cf8b01ff0e069b9275f58929596ceb00d14d90e3e16cd6"
   }
  }
 },
 "nbformat": 4,
 "nbformat_minor": 5
}
