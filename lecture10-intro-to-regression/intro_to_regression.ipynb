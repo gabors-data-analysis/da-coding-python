{
 "cells": [
  {
   "cell_type": "markdown",
   "id": "f0764b02",
   "metadata": {},
   "source": [
    "# Lecture 10\n",
    "\n",
    "## Introduction to [Regressions](#regression) <a class=\"anchor\" id=\"TOC\"></a>\n",
    "\n",
    " - binary means (close vs far)         \n",
    " - pre-specified categories with means \n",
    " - non-parametric regression (lowess)  \n",
    " - simple linear regression (OLS)  \n",
    " - analysis of the results\n",
    " - Log models\n",
    " - Non-linear models\n",
    "                                     \n",
    "#### Case-study:                           \n",
    "- Hotels Vienna          \n",
    "                                     \n",
    "#### Dataset:                              \n",
    "- hotels-vienna\n",
    "\n",
    "\n",
    "___"
   ]
  },
  {
   "cell_type": "markdown",
   "id": "0ccd4d51-501b-40dd-9660-fd08689947e4",
   "metadata": {},
   "source": [
    "## Introduction to Regression<a class = 'anchor' id = 'regression'></a>"
   ]
  },
  {
   "cell_type": "markdown",
   "id": "c2efd22f",
   "metadata": {},
   "source": [
    "Import packages"
   ]
  },
  {
   "cell_type": "code",
   "execution_count": null,
   "id": "28f5783b",
   "metadata": {},
   "outputs": [],
   "source": [
    "import pandas as pd\n",
    "import numpy as np\n",
    "from plotnine import *\n",
    "import patchworklib as pw\n",
    "import warnings\n",
    "\n",
    "%matplotlib inline\n",
    "warnings.filterwarnings(\"ignore\")"
   ]
  },
  {
   "cell_type": "markdown",
   "id": "7c54b28e",
   "metadata": {},
   "source": [
    "From OSF import hotel-vienna data"
   ]
  },
  {
   "cell_type": "code",
   "execution_count": null,
   "id": "d263c0ab",
   "metadata": {},
   "outputs": [],
   "source": [
    "hotels = pd.read_csv(\"https://osf.io/y6jvb/download\")"
   ]
  },
  {
   "cell_type": "code",
   "execution_count": null,
   "id": "a8156059",
   "metadata": {},
   "outputs": [],
   "source": [
    "hotels"
   ]
  },
  {
   "cell_type": "markdown",
   "id": "014bed6f",
   "metadata": {},
   "source": [
    "Apply filters:  3-4 stars, Vienna actual, without  extreme prices"
   ]
  },
  {
   "cell_type": "code",
   "execution_count": null,
   "id": "1c8e1ae1",
   "metadata": {},
   "outputs": [],
   "source": [
    "hotels = (\n",
    "    hotels.loc[lambda x: x[\"accommodation_type\"] == \"Hotel\"]\n",
    "    .loc[lambda x: x[\"city_actual\"] == \"Vienna\"]\n",
    "    .loc[lambda x: x[\"stars\"] >= 3]\n",
    "    .loc[lambda x: x[\"stars\"] <= 4]\n",
    "    .loc[lambda x: x[\"stars\"].notnull()]\n",
    "    .loc[lambda x: x[\"price\"] <= 600]\n",
    ")"
   ]
  },
  {
   "cell_type": "markdown",
   "id": "fdb77bc9",
   "metadata": {},
   "source": [
    "Summary statistics on price and distance"
   ]
  },
  {
   "cell_type": "code",
   "execution_count": null,
   "id": "1f0c8a14",
   "metadata": {},
   "outputs": [],
   "source": [
    "hotels.filter([\"price\", \"distance\"]).describe(percentiles=[0.25, 0.5, 0.75, 0.95]).T"
   ]
  },
  {
   "cell_type": "markdown",
   "id": "24034a08",
   "metadata": {},
   "source": [
    "Graphical investigation: \\\n",
    "create a base scatter-plot between price and distance"
   ]
  },
  {
   "cell_type": "code",
   "execution_count": null,
   "id": "c3235d73",
   "metadata": {},
   "outputs": [],
   "source": [
    "p1 = (\n",
    "    ggplot(data=hotels)\n",
    "    + geom_point(aes(x=\"distance\", y=\"price\"), color=\"red\", size=2, alpha=0.5)\n",
    "    + expand_limits(x=0.01, y=0.01)\n",
    "    + scale_x_continuous(expand=(0.01, 0.01), limits=(0, 7), breaks=range(0, 8))\n",
    "    + scale_y_continuous(\n",
    "        expand=(0.01, 0.01), limits=(0, 400), breaks=np.arange(0, 401, 50)\n",
    "    )\n",
    "    + labs(x=\"Distance to city center (miles)\", y=\"Price (US dollars)\")\n",
    "    + theme_bw()\n",
    ")\n",
    "p1"
   ]
  },
  {
   "cell_type": "markdown",
   "id": "3e8f8bc6",
   "metadata": {},
   "source": [
    "### Binary Variable"
   ]
  },
  {
   "cell_type": "markdown",
   "id": "c0776813",
   "metadata": {},
   "source": [
    "Close vs Far away hotels with a binary variable: \n",
    " - if further away from 2 miles, consider as 'far', otherwise 'close'"
   ]
  },
  {
   "cell_type": "code",
   "execution_count": null,
   "id": "44d695e0",
   "metadata": {},
   "outputs": [],
   "source": [
    "hotels[\"dist2\"] = np.where(hotels[\"distance\"] >= 2, \"Far\", \"Close\")\n",
    "hotels[\"Eprice_cat2\"] = hotels.groupby(\"dist2\")[\"price\"].transform(\"mean\")"
   ]
  },
  {
   "cell_type": "markdown",
   "id": "735855bb",
   "metadata": {},
   "source": [
    "Check the descriptives for the two categories:"
   ]
  },
  {
   "cell_type": "code",
   "execution_count": null,
   "id": "9355b607",
   "metadata": {},
   "outputs": [],
   "source": [
    "(\n",
    "    hotels.melt(id_vars=\"dist2\", value_vars=[\"distance\", \"price\"], value_name=\"price\")\n",
    "    .groupby([\"dist2\", \"variable\"])\n",
    "    .agg([\"mean\", \"std\", \"min\", \"max\", \"count\"])\n",
    "    .round(2)\n",
    ")"
   ]
  },
  {
   "cell_type": "markdown",
   "id": "556479dd",
   "metadata": {},
   "source": [
    "Plot the two categories"
   ]
  },
  {
   "cell_type": "code",
   "execution_count": null,
   "id": "7a933baf",
   "metadata": {},
   "outputs": [],
   "source": [
    "(\n",
    "    ggplot(data=hotels)\n",
    "    + geom_point(\n",
    "        aes(x=\"dist2\", y=\"Eprice_cat2\"), size=5, alpha=0.4, fill=\"red\", na_rm=True\n",
    "    )\n",
    "    + geom_text(\n",
    "        aes(x=\"dist2\", y=\"Eprice_cat2 + 16\", label=\"round(Eprice_cat2, 0)\"),\n",
    "        color=\"black\",\n",
    "        size=10,\n",
    "    )\n",
    "    + scale_y_continuous(\n",
    "        expand=(0.01, 0.01), limits=(0, 400), breaks=np.arange(0, 401, 50)\n",
    "    )\n",
    "    + expand_limits(y=0.01)\n",
    "    + scale_x_discrete()\n",
    "    + labs(x=\"Distance to city center (categories)\", y=\"Average price (US dollars)\")\n",
    "    + theme_bw()\n",
    ")"
   ]
  },
  {
   "cell_type": "markdown",
   "id": "fb716112",
   "metadata": {},
   "source": [
    "#### Task:\n",
    "Instead of a simple dot, use a box-plot, which shows the underlying (conditional) distribution better!"
   ]
  },
  {
   "cell_type": "code",
   "execution_count": null,
   "id": "13593733",
   "metadata": {},
   "outputs": [],
   "source": [
    "(\n",
    "    ggplot(hotels, aes(x=\"dist2\", y=\"price\"))\n",
    "    + geom_boxplot(color=\"blue\")\n",
    "    + stat_boxplot(geom=\"errorbar\", width=0.05, size=0.5, color=\"blue\")\n",
    "    + scale_y_continuous(\n",
    "        expand=(0.01, 0.01), limits=(0, 400), breaks=np.arange(0, 401, 50)\n",
    "    )\n",
    "    + expand_limits(y=0.01)\n",
    "    + scale_x_discrete()\n",
    "    + labs(x=\"Distance to city center (categories)\", y=\"Average price (US dollars)\")\n",
    "    + theme_bw()\n",
    ")"
   ]
  },
  {
   "cell_type": "markdown",
   "id": "e00b01e7",
   "metadata": {},
   "source": [
    "###  Pre-specified Categories With Means (4 Distance Categories)"
   ]
  },
  {
   "cell_type": "markdown",
   "id": "faab6284",
   "metadata": {},
   "source": [
    "Below 1, between 1 and 2, between 2 and 3 and above 3 -> x value will be the midpoint"
   ]
  },
  {
   "cell_type": "code",
   "execution_count": null,
   "id": "8621a444",
   "metadata": {},
   "outputs": [],
   "source": [
    "hotels[\"dist4\"] = (\n",
    "    0.5\n",
    "    + np.where(hotels[\"distance\"] >= 1, 1, 0)\n",
    "    + np.where(hotels[\"distance\"] >= 2, 1, 0)\n",
    "    + np.where(hotels[\"distance\"] >= 3, 2.5, 0)\n",
    ")"
   ]
  },
  {
   "cell_type": "markdown",
   "id": "176ca8c5",
   "metadata": {},
   "source": [
    "Add mean values for price given each group"
   ]
  },
  {
   "cell_type": "code",
   "execution_count": null,
   "id": "b868cd1b",
   "metadata": {},
   "outputs": [],
   "source": [
    "hotels[\"Eprice_cat4\"] = hotels.groupby(\"dist4\")[\"price\"].transform(\"mean\")"
   ]
  },
  {
   "cell_type": "code",
   "execution_count": null,
   "id": "f22d2ab7",
   "metadata": {},
   "outputs": [],
   "source": [
    "(\n",
    "    hotels.melt(id_vars=\"dist4\", value_vars=[\"distance\", \"price\"], value_name = \"price\")\n",
    "    .groupby([\"dist4\", \"variable\"])\n",
    "    .agg([\"mean\", \"std\", \"min\", \"max\", \"count\"])\n",
    "    .round(2)\n",
    ")"
   ]
  },
  {
   "cell_type": "markdown",
   "id": "e234c7c8",
   "metadata": {},
   "source": [
    "Make a graph for each segment"
   ]
  },
  {
   "cell_type": "code",
   "execution_count": null,
   "id": "f7775bd8",
   "metadata": {},
   "outputs": [],
   "source": [
    "(\n",
    "    ggplot(data=hotels)\n",
    "    + geom_point(\n",
    "        aes(x=\"dist4\", y=\"Eprice_cat4\"), size=2.5, fill=\"red\", alpha=0.4, na_rm=True\n",
    "    )\n",
    "    + geom_text(\n",
    "        aes(x=\"dist4\", y=\"Eprice_cat4 + 15\", label=\"round(Eprice_cat4)\"),\n",
    "        color=\"black\",\n",
    "        size=10,\n",
    "    )\n",
    "    + expand_limits(x=0.01, y=0.01)\n",
    "    + coord_cartesian(xlim=(0, 7), ylim=(0, 400))\n",
    "    + scale_y_continuous(\n",
    "        expand=(0.01, 0.01), limits=(0, 400), breaks=np.arange(0, 401, 50)\n",
    "    )\n",
    "    + scale_x_continuous(\n",
    "        expand=(0.01, 0.01), limits=(0, 7), breaks=[0, 1, 2, 3, 4, 5, 6, 7]\n",
    "    )\n",
    "    + labs(x=\"Distance to city center (miles)\", y=\"Price (US dollars)\")\n",
    "    + theme_bw()\n",
    ")"
   ]
  },
  {
   "cell_type": "markdown",
   "id": "a49fa25c",
   "metadata": {},
   "source": [
    "What actually is happening is a: \\\n",
    "scatterplot with step function (we use 1km bits for simplicity using 4 bits for 3-7km)"
   ]
  },
  {
   "cell_type": "code",
   "execution_count": null,
   "id": "a6fde233",
   "metadata": {},
   "outputs": [],
   "source": [
    "hotels[\"dist4_s\"] = (\n",
    "    np.where(hotels[\"distance\"] >= 1, 1, 0)\n",
    "    + np.where(hotels[\"distance\"] >= 2, 1, 0)\n",
    "    + np.where(hotels[\"distance\"] >= 3, 1, 0)\n",
    "    + np.where(hotels[\"distance\"] >= 4, 1, 0)\n",
    "    + np.where(hotels[\"distance\"] >= 5, 1, 0)\n",
    "    + np.where(hotels[\"distance\"] >= 6, 1, 0)\n",
    ")\n",
    "\n",
    "hotels[\"xend\"] = hotels[\"dist4_s\"] + 1\n",
    "hotels[\"yend\"] = hotels[\"Eprice_cat4\"]"
   ]
  },
  {
   "cell_type": "code",
   "execution_count": null,
   "id": "ecc0a6c9",
   "metadata": {},
   "outputs": [],
   "source": [
    "p1 + geom_segment(\n",
    "    aes(x=\"dist4_s\", y=\"yend\", xend=\"xend\", yend=\"yend\"),\n",
    "    color=\"blue\",\n",
    "    size=0.7,\n",
    "    na_rm=True,\n",
    ")"
   ]
  },
  {
   "cell_type": "markdown",
   "id": "ea417832",
   "metadata": {},
   "source": [
    "#### Task\n",
    "\n",
    "REGRESSION 3: use 7 different categories/bins based on distance: \\\n",
    "below 1, between:\n",
    "          1 and 2\n",
    "          2 and 3\n",
    "          ...\n",
    "          6 and 7"
   ]
  },
  {
   "cell_type": "code",
   "execution_count": null,
   "id": "89f6c6d1",
   "metadata": {},
   "outputs": [],
   "source": [
    "hotels[\"dist7_new\"] = (\n",
    "    0.5\n",
    "    + np.where(hotels[\"distance\"] >= 1, 1, 0)\n",
    "    + np.where(hotels[\"distance\"] >= 2, 1, 0)\n",
    "    + np.where(hotels[\"distance\"] >= 3, 1, 0)\n",
    "    + np.where(hotels[\"distance\"] >= 4, 1, 0)\n",
    "    + np.where(hotels[\"distance\"] >= 5, 1, 0)\n",
    "    + np.where(hotels[\"distance\"] >= 6, 1, 0)\n",
    ")"
   ]
  },
  {
   "cell_type": "code",
   "execution_count": null,
   "id": "5f08030e",
   "metadata": {},
   "outputs": [],
   "source": [
    "hotels[\"Eprice_cat7_new\"] = hotels.groupby(\"dist7_new\")[\"price\"].transform(\"mean\")"
   ]
  },
  {
   "cell_type": "code",
   "execution_count": null,
   "id": "d6af8f9c",
   "metadata": {},
   "outputs": [],
   "source": [
    "(\n",
    "    hotels.melt(id_vars=\"dist7_new\", value_vars=[\"distance\", \"price\"], value_name = \"price\")\n",
    "    .groupby([\"dist7_new\", \"variable\"])\n",
    "    .agg([\"mean\", \"std\", \"min\", \"max\", \"count\"])\n",
    "    .round(2)\n",
    ")"
   ]
  },
  {
   "cell_type": "markdown",
   "id": "497ac6db",
   "metadata": {},
   "source": [
    "Scatterplot with step function, starting point is simply at cut-off"
   ]
  },
  {
   "cell_type": "code",
   "execution_count": null,
   "id": "c6f33954",
   "metadata": {},
   "outputs": [],
   "source": [
    "hotels[\"dist7_s\"] = (\n",
    "    np.where(hotels[\"distance\"] >= 1, 1, 0)\n",
    "    + np.where(hotels[\"distance\"] >= 2, 1, 0)\n",
    "    + np.where(hotels[\"distance\"] >= 3, 1, 0)\n",
    "    + np.where(hotels[\"distance\"] >= 4, 1, 0)\n",
    "    + np.where(hotels[\"distance\"] >= 5, 1, 0)\n",
    "    + np.where(hotels[\"distance\"] >= 6, 1, 0)\n",
    ")"
   ]
  },
  {
   "cell_type": "code",
   "execution_count": null,
   "id": "eacff5f9",
   "metadata": {},
   "outputs": [],
   "source": [
    "hotels[\"xend\"] = hotels[\"dist7_s\"] + 1\n",
    "hotels[\"yend\"] = hotels[\"Eprice_cat7_new\"]"
   ]
  },
  {
   "cell_type": "code",
   "execution_count": null,
   "id": "a61dfbd7",
   "metadata": {},
   "outputs": [],
   "source": [
    "p1 + geom_segment(\n",
    "    aes(x=\"dist7_s\", y=\"yend\", xend=\"xend\", yend=\"yend\"),\n",
    "    color=\"blue\",\n",
    "    size=0.7,\n",
    "    na_rm=True,\n",
    ")"
   ]
  },
  {
   "cell_type": "markdown",
   "id": "4107aa4e",
   "metadata": {},
   "source": [
    "###  Lowess Non-parametric Regression"
   ]
  },
  {
   "cell_type": "code",
   "execution_count": null,
   "id": "6abc779b",
   "metadata": {},
   "outputs": [],
   "source": [
    "p1 + geom_smooth(aes(x=\"distance\", y=\"price\"), color=\"blue\", method=\"loess\", se=False)"
   ]
  },
  {
   "cell_type": "markdown",
   "id": "5c06c725",
   "metadata": {},
   "source": [
    "- Advantage: \\\n",
    "   smooth curve which represent the pattern of association pretty flexibly!\n",
    "-  Disadvantage: \\\n",
    "   no measurable properties: it smooth over the observations with an 'optimal' bandwidth."
   ]
  },
  {
   "cell_type": "markdown",
   "id": "49417e86",
   "metadata": {},
   "source": [
    "**NOTE:** This codechunk results in error for Windows users. See: https://github.com/has2k1/scikit-misc/issues/12"
   ]
  },
  {
   "cell_type": "markdown",
   "id": "318f7716",
   "metadata": {},
   "source": [
    "### Simple Linear Regression"
   ]
  },
  {
   "cell_type": "code",
   "execution_count": null,
   "id": "6631833b",
   "metadata": {},
   "outputs": [],
   "source": [
    "p1 + geom_smooth(\n",
    "    aes(x=\"distance\", y=\"price\"), method=\"lm\", color=\"blue\", formula=\"y~x\", se=False\n",
    ")"
   ]
  },
  {
   "cell_type": "markdown",
   "id": "e4a0196b",
   "metadata": {},
   "source": [
    "How to quantify linear regression: \\\n",
    "Remember: $y = \\alpha + \\beta * x + \\epsilon$"
   ]
  },
  {
   "cell_type": "markdown",
   "id": "0f17aa5f",
   "metadata": {},
   "source": [
    "In Python, the [statsmodels](https://www.statsmodels.org/stable/index.html) package is usually used to estimate regressions"
   ]
  },
  {
   "cell_type": "code",
   "execution_count": null,
   "id": "692eb523",
   "metadata": {},
   "outputs": [],
   "source": [
    "import statsmodels.formula.api as smf\n",
    "from mizani.formatters import percent_format"
   ]
  },
  {
   "cell_type": "markdown",
   "id": "72043813",
   "metadata": {},
   "source": [
    "We use the statsmodels formula api, where you can give the equations as a string"
   ]
  },
  {
   "cell_type": "markdown",
   "id": "dbf5da64",
   "metadata": {},
   "source": [
    " Simple model, with homoskedastic SE"
   ]
  },
  {
   "cell_type": "code",
   "execution_count": null,
   "id": "99f0f716",
   "metadata": {},
   "outputs": [],
   "source": [
    "simple_reg = smf.ols(\"price ~ distance\", data=hotels).fit()\n",
    "print(simple_reg.summary())"
   ]
  },
  {
   "cell_type": "markdown",
   "id": "e2db9bb2",
   "metadata": {},
   "source": [
    "Simple model, with heteroskedastic robust SE"
   ]
  },
  {
   "cell_type": "code",
   "execution_count": null,
   "id": "a09fc4ce",
   "metadata": {},
   "outputs": [],
   "source": [
    "hetero_rob_reg = smf.ols(\"price ~ distance\", data=hotels).fit(cov_type =\"HC3\")\n",
    "print(hetero_rob_reg.summary())"
   ]
  },
  {
   "cell_type": "markdown",
   "id": "19243d8f",
   "metadata": {},
   "source": [
    "Its wasy to compare two regression output tables using the stargazer package"
   ]
  },
  {
   "cell_type": "code",
   "execution_count": null,
   "id": "8e8c5f6f",
   "metadata": {},
   "outputs": [],
   "source": [
    "from stargazer.stargazer import Stargazer"
   ]
  },
  {
   "cell_type": "code",
   "execution_count": null,
   "id": "2738540d",
   "metadata": {},
   "outputs": [],
   "source": [
    "table = Stargazer([simple_reg, hetero_rob_reg])\n",
    "table.rename_covariates({\"Intercept\": \"Constant\"})\n",
    "table.custom_columns([\"Homoskedastic SE\", \"Heteroskedastic robust SE\"], [1, 1])\n",
    "table"
   ]
  },
  {
   "cell_type": "markdown",
   "id": "0de916c5",
   "metadata": {},
   "source": [
    "### Analysis of the Results\n",
    "   - price prediction of a model\n",
    "   - errors of predictions"
   ]
  },
  {
   "cell_type": "markdown",
   "id": "256fcac5",
   "metadata": {},
   "source": [
    "It is easy to save the predicted values and residuals"
   ]
  },
  {
   "cell_type": "code",
   "execution_count": null,
   "id": "a5dcc6f8",
   "metadata": {},
   "outputs": [],
   "source": [
    "hotels[\"predprice\"] = simple_reg.fittedvalues\n",
    "hotels[\"e\"] = simple_reg.resid"
   ]
  },
  {
   "cell_type": "markdown",
   "id": "49365932",
   "metadata": {},
   "source": [
    "Get the hotel, which is the most underpriced"
   ]
  },
  {
   "cell_type": "code",
   "execution_count": null,
   "id": "c89612c6",
   "metadata": {},
   "outputs": [],
   "source": [
    "hotels.sort_values(by=\"e\").head(1)"
   ]
  },
  {
   "cell_type": "markdown",
   "id": "82b06397",
   "metadata": {},
   "source": [
    "probably we are only interested in hotel_id, distance, price, prediction and error values:"
   ]
  },
  {
   "cell_type": "code",
   "execution_count": null,
   "id": "722d97da",
   "metadata": {},
   "outputs": [],
   "source": [
    "hotels.sort_values(by=\"e\").head(1).filter([\"hotel_id\",\"distance\",\"price\",\"predprice\",\"e\"])"
   ]
  },
  {
   "cell_type": "markdown",
   "id": "6644de03",
   "metadata": {},
   "source": [
    " Interpret the result!"
   ]
  },
  {
   "cell_type": "markdown",
   "id": "ace4110e",
   "metadata": {},
   "source": [
    "We can get the 5 most overpriced five hotels"
   ]
  },
  {
   "cell_type": "code",
   "execution_count": null,
   "id": "db058fbb",
   "metadata": {},
   "outputs": [],
   "source": [
    "hotels.sort_values(by=\"e\", ascending=False).head(5).filter(\n",
    "    [\"hotel_id\", \"distance\", \"price\", \"predprice\", \"e\"]\n",
    ")"
   ]
  },
  {
   "cell_type": "markdown",
   "id": "037bf066",
   "metadata": {},
   "source": [
    "Checking the histogram of residuals:\\\n",
    "we can better understand about how well we can predict the prices\\\n",
    "notes:\\\n",
    "   - we picked previously the smallest and 5 largest values from here\n",
    "   - on average we will have 0 error, as this is a property of the OLS estimator"
   ]
  },
  {
   "cell_type": "code",
   "execution_count": null,
   "id": "044c2be2",
   "metadata": {},
   "outputs": [],
   "source": [
    "(\n",
    "    ggplot(hotels, aes(x=\"e\"))\n",
    "    + geom_histogram(\n",
    "        aes(y=after_stat(\"count / np.sum(count)\")),\n",
    "        binwidth=20,\n",
    "        fill=\"blue\",\n",
    "        color=\"white\",\n",
    "        size=0.2,\n",
    "        alpha=0.8,\n",
    "        na_rm=True,\n",
    "    )\n",
    "    + labs(x=\"Residuals\", y=\"Percent\")\n",
    "    + scale_x_continuous(limits=(-100, 300), breaks=np.arange(-100, 301, 100))\n",
    "    + scale_y_continuous(\n",
    "        expand=(0.0, 0.0),\n",
    "        limits=(0, 0.31),\n",
    "        breaks=np.arange(0, 0.31, 0.05),\n",
    "        labels=percent_format(),\n",
    "    )\n",
    "    + theme_bw()\n",
    ")"
   ]
  },
  {
   "cell_type": "markdown",
   "id": "0219565e",
   "metadata": {},
   "source": [
    "We can make a pretty graph with the bottom and top 5 deals:"
   ]
  },
  {
   "cell_type": "markdown",
   "id": "41085b9e",
   "metadata": {},
   "source": [
    "Create a factor variable with 4 possible values"
   ]
  },
  {
   "cell_type": "code",
   "execution_count": null,
   "id": "b7266a4f",
   "metadata": {},
   "outputs": [],
   "source": [
    "hotels[\"reg1_res\"] = np.where(hotels[\"e\"] >= 0, \"overpriced\", \"underpriced\")\n",
    "\n",
    "hotels[\"reg1_res\"] = np.where(\n",
    "    hotels[\"hotel_id\"].isin(\n",
    "        hotels.sort_values(by=\"e\", ascending=False).head(5)[\"hotel_id\"].tolist()\n",
    "    ),\n",
    "    \"top5\",\n",
    "    hotels[\"reg1_res\"],\n",
    ")\n",
    "hotels[\"reg1_res\"] = np.where(\n",
    "    hotels[\"hotel_id\"].isin(\n",
    "        hotels.sort_values(by=\"e\", ascending=False).tail(5)[\"hotel_id\"].tolist()\n",
    "    ),\n",
    "    \"bottom5\",\n",
    "    hotels[\"reg1_res\"],\n",
    ")"
   ]
  },
  {
   "cell_type": "code",
   "execution_count": null,
   "id": "15ae4b61",
   "metadata": {},
   "outputs": [],
   "source": [
    "(\n",
    "    ggplot(hotels, aes(x=\"distance\", y=\"price\"))\n",
    "    + geom_point(aes(color=\"reg1_res\"), alpha=0.6)\n",
    "    + geom_point(\n",
    "        hotels.loc[lambda x: x[\"reg1_res\"] == \"top5\"], alpha=0.8, size=8, color=\"blue\"\n",
    "    )\n",
    "    + geom_point(\n",
    "        hotels.loc[lambda x: x[\"reg1_res\"] == \"bottom5\"],\n",
    "        alpha=0.8,\n",
    "        size=10,\n",
    "        color=\"red\",\n",
    "        fill=\"white\",\n",
    "    )\n",
    "    + geom_smooth(method=\"lm\", size=1, se=False, formula=\"y~x\")\n",
    "    + coord_cartesian(xlim=(0, 7), ylim=(0, 400))\n",
    "    + expand_limits(x=0.01, y=0.01)\n",
    "    + scale_color_discrete(guide=False)\n",
    "    + scale_x_continuous(expand=(0.01, 0.01), limits=(0, 7), breaks=np.arange(0, 8, 1))\n",
    "    + scale_y_continuous(\n",
    "        expand=(0.01, 0.01), limits=(0, 400), breaks=np.arange(0, 401, 50)\n",
    "    )\n",
    "    + labs(x=\"Distance to city center (miles)\", y=\"Price (US dollars)\")\n",
    "    + geom_segment(aes(x=2, y=25, xend=1.15, yend=50), arrow=arrow())\n",
    "    + annotate(\"text\", x=3, y=25, label=\"Most underpriced hotels\", size=8)\n",
    "    + theme_bw()\n",
    ")"
   ]
  },
  {
   "cell_type": "markdown",
   "id": "7277d7cf",
   "metadata": {},
   "source": [
    "## Log models "
   ]
  },
  {
   "cell_type": "markdown",
   "id": "4cacf9b9",
   "metadata": {},
   "source": [
    "Take log price"
   ]
  },
  {
   "cell_type": "code",
   "execution_count": null,
   "id": "02d1b51d",
   "metadata": {},
   "outputs": [],
   "source": [
    "hotels[\"lnprice\"] = np.log(hotels[\"price\"])"
   ]
  },
  {
   "cell_type": "markdown",
   "id": "32b11d89",
   "metadata": {},
   "source": [
    "Correct distance2 measure: no closer than 0.05km"
   ]
  },
  {
   "cell_type": "code",
   "execution_count": null,
   "id": "ac6ff228",
   "metadata": {},
   "outputs": [],
   "source": [
    "hotels[\"distance2\"] = np.where(hotels[\"distance\"] < 0.05, 0.05, hotels[\"distance\"])"
   ]
  },
  {
   "cell_type": "markdown",
   "id": "6add6d3d",
   "metadata": {},
   "source": [
    "Take the log of distance2"
   ]
  },
  {
   "cell_type": "code",
   "execution_count": null,
   "id": "f4256e0a",
   "metadata": {},
   "outputs": [],
   "source": [
    "hotels[\"lndistance\"] = np.log(hotels[\"distance2\"])"
   ]
  },
  {
   "cell_type": "markdown",
   "id": "78934e8a",
   "metadata": {},
   "source": [
    "Describe price and ln price"
   ]
  },
  {
   "cell_type": "code",
   "execution_count": null,
   "id": "90d8bd8f",
   "metadata": {},
   "outputs": [],
   "source": [
    "hotels.filter([\"price\", \"lnprice\"]).describe(percentiles=[0.25, 0.5, 0.75, 0.95]).T"
   ]
  },
  {
   "cell_type": "markdown",
   "id": "10308247",
   "metadata": {},
   "source": [
    "### Running multiple regressions:"
   ]
  },
  {
   "cell_type": "markdown",
   "id": "57f4a63f",
   "metadata": {},
   "source": [
    "1. Level-level linear regression"
   ]
  },
  {
   "cell_type": "code",
   "execution_count": null,
   "id": "a1ddad31",
   "metadata": {},
   "outputs": [],
   "source": [
    "reg1 = smf.ols(\"price ~ distance\", data=hotels).fit()\n",
    "print(reg1.summary())"
   ]
  },
  {
   "cell_type": "code",
   "execution_count": null,
   "id": "b0209dfd",
   "metadata": {},
   "outputs": [],
   "source": [
    "f1 = p1 + geom_smooth(\n",
    "    aes(x=\"distance\", y=\"price\"), method=\"lm\", color=\"blue\", formula=\"y~x\", se=True\n",
    ")\n",
    "f1"
   ]
  },
  {
   "cell_type": "markdown",
   "id": "053b98c1",
   "metadata": {},
   "source": [
    "2. Level-log linear regression"
   ]
  },
  {
   "cell_type": "code",
   "execution_count": null,
   "id": "bf67becb",
   "metadata": {},
   "outputs": [],
   "source": [
    "reg2 = smf.ols(\"price ~ lndistance\", data=hotels).fit()\n",
    "print(reg2.summary())"
   ]
  },
  {
   "cell_type": "code",
   "execution_count": null,
   "id": "65aa91a0",
   "metadata": {},
   "outputs": [],
   "source": [
    "f2 = (\n",
    "    ggplot(data=hotels)\n",
    "    + geom_point(aes(x=\"lndistance\", y=\"price\"), color=\"red\", size=2, alpha=0.5)\n",
    "    + expand_limits(x=0.01, y=0.01)\n",
    "    + scale_x_continuous(expand=(0.01, 0.01), limits=(-3, 2), breaks=range(-3, 3))\n",
    "    + scale_y_continuous(\n",
    "        expand=(0.01, 0.01), limits=(0, 400), breaks=np.arange(0, 401, 50)\n",
    "    )\n",
    "    + labs(x=\"ln(distance to city center, miles)\", y=\"Price (US dollars)\")\n",
    "    + theme_bw()\n",
    "    + geom_smooth(\n",
    "        aes(x=\"lndistance\", y=\"price\"),\n",
    "        method=\"lm\",\n",
    "        color=\"blue\",\n",
    "        formula=\"y~x\",\n",
    "        se=True,\n",
    "    )\n",
    ")\n",
    "f2"
   ]
  },
  {
   "cell_type": "markdown",
   "id": "4d0a7f10",
   "metadata": {},
   "source": [
    "3. Log-level linear regression"
   ]
  },
  {
   "cell_type": "code",
   "execution_count": null,
   "id": "54bf3d1c",
   "metadata": {},
   "outputs": [],
   "source": [
    "reg3 = smf.ols(\"lnprice ~ distance\", data=hotels).fit()\n",
    "print(reg3.summary())"
   ]
  },
  {
   "cell_type": "code",
   "execution_count": null,
   "id": "f30326c3",
   "metadata": {},
   "outputs": [],
   "source": [
    "f3 = (\n",
    "    ggplot(data=hotels)\n",
    "    + geom_point(aes(x=\"distance\", y=\"lnprice\"), color=\"red\", size=2, alpha=0.5)\n",
    "    + expand_limits(x=0.01, y=0.01)\n",
    "    + scale_x_continuous(expand=(0.01, 0.01), limits=(0, 7), breaks=range(0, 8))\n",
    "    + scale_y_continuous(\n",
    "        expand=(0.01, 0.01), limits=(3.5, 6), breaks=np.arange(3.5, 7, 0.5)\n",
    "    )\n",
    "    + labs(x=\"Distance to city center (miles)\", y=\"ln(price, US dollars)\")\n",
    "    + theme_bw()\n",
    "    + geom_smooth(\n",
    "        aes(x=\"distance\", y=\"lnprice\"),\n",
    "        method=\"lm\",\n",
    "        color=\"blue\",\n",
    "        formula=\"y~x\",\n",
    "        se=True,\n",
    "    )\n",
    ")\n",
    "f3"
   ]
  },
  {
   "cell_type": "markdown",
   "id": "0dde8b31",
   "metadata": {},
   "source": [
    "4. Log-log linear regression"
   ]
  },
  {
   "cell_type": "code",
   "execution_count": null,
   "id": "1d32d9f5",
   "metadata": {},
   "outputs": [],
   "source": [
    "reg4 = smf.ols(\"lnprice ~ lndistance\", data=hotels).fit()\n",
    "print(reg4.summary())"
   ]
  },
  {
   "cell_type": "code",
   "execution_count": null,
   "id": "8c3a46be",
   "metadata": {},
   "outputs": [],
   "source": [
    "f4 = (\n",
    "    ggplot(data=hotels)\n",
    "    + geom_point(aes(x=\"lndistance\", y=\"lnprice\"), color=\"red\", size=2, alpha=0.5)\n",
    "    + expand_limits(x=0.01, y=0.01)\n",
    "    + scale_x_continuous(expand=(0.01, 0.01), limits=(-3, 2), breaks=range(-3, 3))\n",
    "    + scale_y_continuous(\n",
    "        expand=(0.01, 0.01), limits=(3.5, 6), breaks=np.arange(3.5, 7, 0.5)\n",
    "    )\n",
    "    + labs(x=\"ln(distance to city center, miles)\", y=\"ln(price, US dollars)\")\n",
    "    + theme_bw()\n",
    "    + geom_smooth(\n",
    "        aes(x=\"lndistance\", y=\"lnprice\"),\n",
    "        method=\"lm\",\n",
    "        color=\"blue\",\n",
    "        formula=\"y~x\",\n",
    "        se=True,\n",
    "    )\n",
    ")\n",
    "f4"
   ]
  },
  {
   "cell_type": "markdown",
   "id": "21329057",
   "metadata": {},
   "source": [
    "#### Checking and comparing all models:\n"
   ]
  },
  {
   "cell_type": "code",
   "execution_count": null,
   "id": "a8ab0d6e",
   "metadata": {},
   "outputs": [],
   "source": [
    "table = Stargazer([reg1, reg2, reg3, reg4])\n",
    "table.rename_covariates({\"Intercept\": \"Constant\"})\n",
    "table.custom_columns([\"Level-Level\", \"Level-Log\", \"Log-Level\", \"Log-Log\"], [1, 1, 1, 1])\n",
    "table"
   ]
  },
  {
   "cell_type": "code",
   "execution_count": null,
   "id": "c7921d15",
   "metadata": {},
   "outputs": [],
   "source": [
    "g1 = pw.load_ggplot(f1 + ggtitle(\"Level-level\"), figsize=(2, 2))\n",
    "g2 = pw.load_ggplot(f2 + ggtitle(\"Log-level\"), figsize=(2, 2))\n",
    "g3 = pw.load_ggplot(f3 + ggtitle(\"Level-log\"), figsize=(2, 2))\n",
    "g4 = pw.load_ggplot(f4 + ggtitle(\"Log-log\"), figsize=(2, 2))\n",
    "\n",
    "glog = (g1 | g2) / (g3 | g4)\n",
    "glog.savefig()"
   ]
  },
  {
   "cell_type": "markdown",
   "id": "1adbbcc7",
   "metadata": {},
   "source": [
    "## Polynomials"
   ]
  },
  {
   "cell_type": "code",
   "execution_count": null,
   "id": "1b81df06",
   "metadata": {},
   "outputs": [],
   "source": [
    "hotels[\"dist_sq\"] = hotels[\"distance\"]**2\n",
    "hotels[\"dist_cb\"] = hotels[\"distance\"]**3"
   ]
  },
  {
   "cell_type": "markdown",
   "id": "77c39703",
   "metadata": {},
   "source": [
    "5. Single squared"
   ]
  },
  {
   "cell_type": "code",
   "execution_count": null,
   "id": "7f53ae16",
   "metadata": {},
   "outputs": [],
   "source": [
    "reg5 = smf.ols(\"price ~ distance + dist_sq\", data=hotels).fit()\n",
    "print(reg5.summary())"
   ]
  },
  {
   "cell_type": "code",
   "execution_count": null,
   "id": "0ec16ed5",
   "metadata": {},
   "outputs": [],
   "source": [
    "f5 = p1 + geom_smooth(\n",
    "    aes(x=\"distance\", y=\"price\"),\n",
    "    method=\"lm\",\n",
    "    color=\"blue\",\n",
    "    formula=\"y ~ x + np.power(x, 2)\",\n",
    "    se=True,\n",
    ")\n",
    "f5"
   ]
  },
  {
   "cell_type": "markdown",
   "id": "abc09cef",
   "metadata": {},
   "source": [
    "6. Squared and cubic"
   ]
  },
  {
   "cell_type": "code",
   "execution_count": null,
   "id": "4bb0d169",
   "metadata": {},
   "outputs": [],
   "source": [
    "reg6 = smf.ols(\"price ~ distance + dist_sq + dist_cb\", data=hotels).fit()\n",
    "print(reg6.summary())"
   ]
  },
  {
   "cell_type": "code",
   "execution_count": null,
   "id": "f5eecd0c",
   "metadata": {},
   "outputs": [],
   "source": [
    "f6 = p1 + geom_smooth(\n",
    "    aes(x=\"distance\", y=\"price\"),\n",
    "    method=\"lm\",\n",
    "    color=\"blue\",\n",
    "    formula=\"y ~ x + np.power(x, 2) + np.power(x, 3)\",\n",
    "    se=True,\n",
    ")\n",
    "f6"
   ]
  },
  {
   "cell_type": "markdown",
   "id": "6e4f7ad6",
   "metadata": {},
   "source": [
    "7. Spline"
   ]
  },
  {
   "cell_type": "code",
   "execution_count": null,
   "id": "fdff2a71",
   "metadata": {},
   "outputs": [],
   "source": [
    "import copy\n",
    "def lspline(series, knots):\n",
    "    def knot_ceil(vector, knot):\n",
    "        vector_copy = copy.deepcopy(vector)\n",
    "        vector_copy[vector_copy > knot] = knot\n",
    "        return vector_copy\n",
    "\n",
    "    if type(knots) != list:\n",
    "        knots = [knots]\n",
    "    design_matrix = None\n",
    "    vector = series.values\n",
    "\n",
    "    for i in range(len(knots)):\n",
    "        # print(i)\n",
    "        # print(vector)\n",
    "        if i == 0:\n",
    "            column = knot_ceil(vector, knots[i])\n",
    "        else:\n",
    "            column = knot_ceil(vector, knots[i] - knots[i - 1])\n",
    "        # print(column)\n",
    "        if i == 0:\n",
    "            design_matrix = column\n",
    "        else:\n",
    "            design_matrix = np.column_stack((design_matrix, column))\n",
    "        # print(design_matrix)\n",
    "        vector = vector - column\n",
    "    design_matrix = np.column_stack((design_matrix, vector))\n",
    "    # print(design_matrix)\n",
    "    return design_matrix"
   ]
  },
  {
   "cell_type": "code",
   "execution_count": null,
   "id": "8ee998c2",
   "metadata": {},
   "outputs": [],
   "source": [
    "cutoff = 2"
   ]
  },
  {
   "cell_type": "code",
   "execution_count": null,
   "id": "3847f2bc",
   "metadata": {},
   "outputs": [],
   "source": [
    "reg7 = smf.ols(\"price ~ lspline(distance, cutoff)\", data=hotels).fit()\n",
    "print(reg7.summary())"
   ]
  },
  {
   "cell_type": "code",
   "execution_count": null,
   "id": "9a443570",
   "metadata": {},
   "outputs": [],
   "source": [
    "f7 = p1 + geom_smooth(\n",
    "    aes(x=\"distance\", y=\"price\"),\n",
    "    method=\"lm\",\n",
    "    color=\"blue\",\n",
    "    formula=\"y ~ lspline(x, cutoff)\",\n",
    "    se=True,\n",
    ")\n",
    "f7"
   ]
  },
  {
   "cell_type": "markdown",
   "id": "8c90f3ef",
   "metadata": {},
   "source": [
    "Compare these non-linear models:"
   ]
  },
  {
   "cell_type": "code",
   "execution_count": null,
   "id": "bc11c8a3",
   "metadata": {},
   "outputs": [],
   "source": [
    "table = Stargazer([reg1, reg5, reg6, reg7])\n",
    "table.rename_covariates({\"Intercept\": \"Constant\"})\n",
    "table.custom_columns([\"Linear\", \"Squared\", \"Cubic\", \"L.Spline\"], [1, 1, 1, 1])\n",
    "table"
   ]
  },
  {
   "cell_type": "code",
   "execution_count": null,
   "id": "0dc22682",
   "metadata": {},
   "outputs": [],
   "source": [
    "g1 = pw.load_ggplot(f1 + ggtitle(\"Linear\"), figsize=(2, 2))\n",
    "g5 = pw.load_ggplot(f5 + ggtitle(\"Squared\"), figsize=(2, 2))\n",
    "g6 = pw.load_ggplot(f6 + ggtitle(\"Cubic\"), figsize=(2, 2))\n",
    "g7 = pw.load_ggplot(f7 + ggtitle(\"L.Spline\"), figsize=(2, 2))\n",
    "\n",
    "gpoly = (g1 | g5) / (g6 | g7)"
   ]
  },
  {
   "cell_type": "code",
   "execution_count": null,
   "id": "65b8cfb5",
   "metadata": {},
   "outputs": [],
   "source": [
    "gpoly.savefig()"
   ]
  },
  {
   "cell_type": "code",
   "execution_count": null,
   "id": "b1ca6c9c",
   "metadata": {},
   "outputs": [],
   "source": []
  }
 ],
 "metadata": {
  "kernelspec": {
   "display_name": "Python 3 (ipykernel)",
   "language": "python",
   "name": "python3"
  },
  "language_info": {
   "codemirror_mode": {
    "name": "ipython",
    "version": 3
   },
   "file_extension": ".py",
   "mimetype": "text/x-python",
   "name": "python",
   "nbconvert_exporter": "python",
   "pygments_lexer": "ipython3",
   "version": "3.8.10"
  }
 },
 "nbformat": 4,
 "nbformat_minor": 5
}
