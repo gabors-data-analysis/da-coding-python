{
 "cells": [
  {
   "cell_type": "markdown",
   "id": "ffd867f7",
   "metadata": {},
   "source": [
    "# Lecture 11 - Part II\n",
    "\n",
    "## Feature Engineering <a class=\"anchor\" id=\"TOC\"></a>    \n",
    "                                                     \n",
    "                                                     \n",
    "### Bisnode Data                                   \n",
    "                                                     \n",
    "\n",
    "- imputing:                                     \n",
    "    - A: replacing with mean or median            \n",
    "    - B: outside knowledge to replace values      \n",
    "    - C: introduce new value:                     \n",
    "        - only for categorical values           \n",
    "- log transformation adjustment:                \n",
    "        log(0) is -inf -> adjust numerically        \n",
    "- create dummy variable(s) with                 \n",
    "        multiple statements: using shift() function  \n",
    "- randomizing large data for visualization      \n",
    "- growth rate with log difference:\n",
    "    - using shift() function                      \n",
    "- winsorizing                                   \n",
    "\n",
    "___"
   ]
  },
  {
   "cell_type": "markdown",
   "id": "c2efd22f",
   "metadata": {},
   "source": [
    "Import packages"
   ]
  },
  {
   "cell_type": "code",
   "execution_count": null,
   "id": "28f5783b",
   "metadata": {},
   "outputs": [],
   "source": [
    "import pandas as pd\n",
    "import numpy as np\n",
    "from plotnine import *\n",
    "import warnings\n",
    "\n",
    "%matplotlib inline\n",
    "warnings.filterwarnings(\"ignore\")"
   ]
  },
  {
   "cell_type": "markdown",
   "id": "b2b6fba0",
   "metadata": {},
   "source": [
    "Using bisnode data for firm exit"
   ]
  },
  {
   "cell_type": "code",
   "execution_count": null,
   "id": "f209e76a",
   "metadata": {},
   "outputs": [],
   "source": [
    "bisnode = pd.read_csv(\"https://osf.io/3qyut/download\")\n",
    "\n",
    "bisnode.head()"
   ]
  },
  {
   "cell_type": "markdown",
   "id": "3fdec49f",
   "metadata": {},
   "source": [
    "Sample selection\\\n",
    "drop variables with many NAs"
   ]
  },
  {
   "cell_type": "code",
   "execution_count": null,
   "id": "10af3226",
   "metadata": {},
   "outputs": [],
   "source": [
    "bisnode = bisnode.drop(\n",
    "    [\"COGS\", \"finished_prod\", \"net_dom_sales\", \"net_exp_sales\", \"wages\"], axis=1\n",
    ").loc[bisnode[\"year\"] != 2016]"
   ]
  },
  {
   "cell_type": "markdown",
   "id": "f5034f0c",
   "metadata": {},
   "source": [
    "add all missing year and comp_id combinations -\n",
    "\n",
    "   \n",
    "(originally missing combinations will have NAs in all other columns)"
   ]
  },
  {
   "cell_type": "code",
   "execution_count": null,
   "id": "905d9115",
   "metadata": {},
   "outputs": [],
   "source": [
    "bisnode = (\n",
    "    bisnode.set_index([\"year\", \"comp_id\"])\n",
    "    .unstack(fill_value=np.nan)\n",
    "    .stack(dropna=False)\n",
    "    .reset_index()\n",
    ")"
   ]
  },
  {
   "cell_type": "markdown",
   "id": "f99033bc",
   "metadata": {},
   "source": [
    "### Imputing\n",
    "\n",
    "A) Replacing with mean or median:\n",
    "    \n",
    "   number of employed in firm is a noisy measure with many missing value.\\\n",
    "   replace missing values with the mean or median\\\n",
    "   also add a flag variable for the imputed values (need to include in the model!)"
   ]
  },
  {
   "cell_type": "code",
   "execution_count": null,
   "id": "efd89e4b",
   "metadata": {},
   "outputs": [],
   "source": [
    "# mean\n",
    "bisnode[\"labor_avg_mod\"] = np.where(\n",
    "    bisnode[\"labor_avg\"].isnull(),\n",
    "    np.nanmean(bisnode[\"labor_avg\"]),\n",
    "    bisnode[\"labor_avg\"],\n",
    ")\n",
    "# median\n",
    "bisnode[\"labor_med_mod\"] = np.where(\n",
    "    bisnode[\"labor_avg\"].isnull(),\n",
    "    np.nanmedian(bisnode[\"labor_avg\"]),\n",
    "    bisnode[\"labor_avg\"],\n",
    ")\n",
    "# flag\n",
    "bisnode[\"flag_miss_labor_avg\"] = bisnode[\"labor_avg\"].isnull()"
   ]
  },
  {
   "cell_type": "markdown",
   "id": "9b5efa9d",
   "metadata": {},
   "source": [
    "#### Task\n",
    "add `Nmiss` as a custom function to datasummary and check the \\\n",
    "mean, median, sd, N and Nmiss for labor_avg, labor_avg_mod, labor_med_mod"
   ]
  },
  {
   "cell_type": "code",
   "execution_count": null,
   "id": "262ea739",
   "metadata": {},
   "outputs": [],
   "source": [
    "def Nmiss(x):\n",
    "    return x.isnull().sum()"
   ]
  },
  {
   "cell_type": "markdown",
   "id": "8cbce857",
   "metadata": {},
   "source": [
    "Check how stats altered, discuss!"
   ]
  },
  {
   "cell_type": "code",
   "execution_count": null,
   "id": "74ba07c7",
   "metadata": {},
   "outputs": [],
   "source": [
    "bisnode.filter([\"labor_avg\", \"labor_avg_mod\", \"labor_med_mod\"]).agg(\n",
    "    [\"mean\", \"median\", \"std\", \"count\", Nmiss]\n",
    ").T"
   ]
  },
  {
   "cell_type": "markdown",
   "id": "de5c1392",
   "metadata": {},
   "source": [
    "### Imputing:\n",
    "\n",
    "B) Using outside knowledge to replace values:"
   ]
  },
  {
   "cell_type": "markdown",
   "id": "6195d5e6",
   "metadata": {},
   "source": [
    "Negative sales should not happen, thus we can overwrite it to a small value: 1"
   ]
  },
  {
   "cell_type": "code",
   "execution_count": null,
   "id": "e9ab36db",
   "metadata": {},
   "outputs": [],
   "source": [
    "bisnode[\"sales\"].describe()"
   ]
  },
  {
   "cell_type": "code",
   "execution_count": null,
   "id": "b4484eb7",
   "metadata": {},
   "outputs": [],
   "source": [
    "bisnode[\"sales\"] = np.where(bisnode[\"sales\"] < 0, 1, bisnode[\"sales\"])"
   ]
  },
  {
   "cell_type": "code",
   "execution_count": null,
   "id": "ebb53222",
   "metadata": {},
   "outputs": [],
   "source": [
    "bisnode[\"sales\"].describe()"
   ]
  },
  {
   "cell_type": "markdown",
   "id": "a792b9c3",
   "metadata": {},
   "source": [
    "### Imputing:\n",
    "\n",
    "C) Categorical variables"
   ]
  },
  {
   "cell_type": "markdown",
   "id": "2817ac7c",
   "metadata": {},
   "source": [
    "Simplify some industry category codes and set missing values to 99"
   ]
  },
  {
   "cell_type": "code",
   "execution_count": null,
   "id": "1842fd20",
   "metadata": {},
   "outputs": [],
   "source": [
    "bisnode[\"ind2_cat\"] = np.where(bisnode[\"ind2\"] > 56, 60, bisnode[\"ind2\"])\n",
    "bisnode[\"ind2_cat\"] = np.where(bisnode[\"ind2\"] < 26, 20, bisnode[\"ind2_cat\"])\n",
    "bisnode[\"ind2_cat\"] = np.where(\n",
    "    (bisnode[\"ind2\"] < 55) & (bisnode[\"ind2\"] > 35), 40, bisnode[\"ind2_cat\"]\n",
    ")\n",
    "bisnode[\"ind2_cat\"] = np.where(bisnode[\"ind2\"] == 31, 30, bisnode[\"ind2_cat\"])\n",
    "bisnode[\"ind2_cat\"] = np.where(bisnode[\"ind2\"].isnull(), 99, bisnode[\"ind2_cat\"])"
   ]
  },
  {
   "cell_type": "code",
   "execution_count": null,
   "id": "4b7894b8",
   "metadata": {},
   "outputs": [],
   "source": [
    "bisnode[\"ind2_cat\"].value_counts().sort_index()"
   ]
  },
  {
   "cell_type": "markdown",
   "id": "fd8ff455",
   "metadata": {},
   "source": [
    "___"
   ]
  },
  {
   "cell_type": "markdown",
   "id": "035be918",
   "metadata": {},
   "source": [
    "Adjusting negative sale and for log transformation:"
   ]
  },
  {
   "cell_type": "code",
   "execution_count": null,
   "id": "e6a147f1",
   "metadata": {},
   "outputs": [],
   "source": [
    "bisnode[\"ln_sales\"] = np.where(bisnode[\"sales\"] > 0, np.log(bisnode[\"sales\"]), 0)\n",
    "bisnode[\"sales_mil\"] = bisnode[\"sales\"] / 10**6\n",
    "bisnode[\"sales_mil_log\"] = np.where(bisnode[\"sales\"] > 0, np.log(bisnode[\"sales_mil\"]), 0)"
   ]
  },
  {
   "cell_type": "markdown",
   "id": "befe555d",
   "metadata": {},
   "source": [
    "***Creating 'status_alive' variable to decide if firm exists or not***"
   ]
  },
  {
   "cell_type": "markdown",
   "id": "88ee3411",
   "metadata": {},
   "source": [
    "Generate status_alive; if sales larger than zero and not-NA, then firm is alive"
   ]
  },
  {
   "cell_type": "code",
   "execution_count": null,
   "id": "6c9e724d",
   "metadata": {},
   "outputs": [],
   "source": [
    "bisnode[\"status_alive\"] = np.where(\n",
    "    (bisnode[\"sales\"] > 0) & (bisnode[\"sales\"].notnull()), 1, 0\n",
    ")"
   ]
  },
  {
   "cell_type": "markdown",
   "id": "e5931bf1",
   "metadata": {},
   "source": [
    "Defaults in two years if there are sales in this year but no sales two years later"
   ]
  },
  {
   "cell_type": "code",
   "execution_count": null,
   "id": "21617a85",
   "metadata": {},
   "outputs": [],
   "source": [
    "bisnode = bisnode.sort_values(by=[\"comp_id\",\"year\"])\n",
    "\n",
    "bisnode[\"default\"] = bisnode.groupby(\"comp_id\")[\"status_alive\"].transform(\n",
    "    lambda x: (x == 1) & (x.shift(2) == 0)\n",
    ").astype(int)"
   ]
  },
  {
   "cell_type": "markdown",
   "id": "ebc90e82",
   "metadata": {},
   "source": [
    "Select years before 2013"
   ]
  },
  {
   "cell_type": "code",
   "execution_count": null,
   "id": "5cc9170d",
   "metadata": {},
   "outputs": [],
   "source": [
    "bisnode = bisnode.loc[bisnode[\"year\"]<= 2013]"
   ]
  },
  {
   "cell_type": "markdown",
   "id": "e1298c08",
   "metadata": {},
   "source": [
    "To speed up let take a randomly selected 5k companies"
   ]
  },
  {
   "cell_type": "code",
   "execution_count": null,
   "id": "d5450d56",
   "metadata": {},
   "outputs": [],
   "source": [
    "comp_id_f = bisnode.drop_duplicates(subset=[\"comp_id\"]).sample(5000, random_state = 20123123)[\"comp_id\"]"
   ]
  },
  {
   "cell_type": "code",
   "execution_count": null,
   "id": "a407f5ee",
   "metadata": {},
   "outputs": [],
   "source": [
    "bisnode_sample = bisnode.loc[lambda x: x[\"comp_id\"].isin(comp_id_f)]"
   ]
  },
  {
   "cell_type": "markdown",
   "id": "48ccd996",
   "metadata": {},
   "source": [
    "### Numeric vs Factor Representation"
   ]
  },
  {
   "cell_type": "markdown",
   "id": "d02b8c64",
   "metadata": {},
   "source": [
    "Numeric representation (good)"
   ]
  },
  {
   "cell_type": "code",
   "execution_count": null,
   "id": "a630410e",
   "metadata": {},
   "outputs": [],
   "source": [
    "\n",
    "\n",
    "(\n",
    "    ggplot(bisnode_sample, aes(x=\"sales_mil_log\", y=\"default\"))\n",
    "    + geom_point(size=2, alpha=0.3, color=\"blue\")\n",
    "    + geom_smooth(method=\"lm\", formula=\"y ~ x**2\", color=\"black\", se=False, size=1)\n",
    "    + geom_smooth(method=\"loess\", se=False, colour=\"red\", size=1.5)\n",
    "    + labs(x=\"sales_mil_log\", y=\"default\")\n",
    "    + theme_bw()\n",
    ")"
   ]
  },
  {
   "cell_type": "markdown",
   "id": "14dad9ff",
   "metadata": {},
   "source": [
    "#### Task\n",
    "convert default to a factor variable and plot!\\\n",
    "what is the problem? It is a bad idea to convert to a factor?"
   ]
  },
  {
   "cell_type": "code",
   "execution_count": null,
   "id": "941db5a1",
   "metadata": {},
   "outputs": [],
   "source": [
    "bisnode_sample[\"default_factor\"] = bisnode_sample[\"default\"].astype(\"category\")\n",
    "\n",
    "(\n",
    "    ggplot(bisnode_sample, aes(x=\"sales_mil_log\", y=\"default_factor\"))\n",
    "    + geom_point(size=2, alpha=0.3, color=\"blue\")\n",
    "    + geom_smooth(method=\"lm\", formula=\"y ~ x**2\", color=\"black\", se=False, size=1)\n",
    "    + geom_smooth(method=\"loess\", se=False, colour=\"red\", size=1.5)\n",
    "    + labs(x=\"sales_mil_log\", y=\"default\")\n",
    "    + theme_bw()\n",
    ")"
   ]
  },
  {
   "cell_type": "markdown",
   "id": "551830e0",
   "metadata": {},
   "source": [
    "Growth (%) in sales \\\n",
    "Take the lags but make sure only for the same company!"
   ]
  },
  {
   "cell_type": "code",
   "execution_count": null,
   "id": "a480ffc9",
   "metadata": {},
   "outputs": [],
   "source": [
    "bisnode[\"d1_sales_mil_log\"] = bisnode.groupby(\"comp_id\")[\"sales_mil_log\"].transform(\n",
    "    lambda x: x - x.shift(1)\n",
    ")"
   ]
  },
  {
   "cell_type": "markdown",
   "id": "16e56bf8",
   "metadata": {},
   "source": [
    "Repeat random sample to include the new variables"
   ]
  },
  {
   "cell_type": "code",
   "execution_count": null,
   "id": "51dd7fa9",
   "metadata": {},
   "outputs": [],
   "source": [
    "bisnode_sample = bisnode.loc[lambda x: x[\"comp_id\"].isin(comp_id_f)]"
   ]
  },
  {
   "cell_type": "markdown",
   "id": "6d84b7c4",
   "metadata": {},
   "source": [
    " First measure for change in sales: take the sale change in logs"
   ]
  },
  {
   "cell_type": "code",
   "execution_count": null,
   "id": "1812374b",
   "metadata": {},
   "outputs": [],
   "source": [
    "nw = (\n",
    "    ggplot(bisnode_sample, aes(x=\"d1_sales_mil_log\", y=\"default\"))\n",
    "    + geom_point(size=1, fill=\"blue\", color=\"blue\")\n",
    "    + geom_smooth(method=\"loess\", se=False, colour=\"red\", size=1.5)\n",
    "    + labs(x=\"Growth rate (Diff of ln sales)\", y=\"default\")\n",
    "    + theme_bw()\n",
    "    + scale_x_continuous(limits=(-6, 10), breaks=np.arange(-5, 10, 5))\n",
    ")\n",
    "nw"
   ]
  },
  {
   "cell_type": "markdown",
   "id": "3ddd33ad",
   "metadata": {},
   "source": [
    "### Winsorized Data:\n",
    "  - set (extreme) values to a certain (lower) value\n",
    "\n",
    "Note: \n",
    "    \n",
    " winsorizing is the action to set manually a value \\\n",
    "      'censoring' is called if the values are already 'winsorized' \\\n",
    "      thus it is unknown what was the original value, but can only see the set value \\\n",
    "        e.g. mother's wage who are at home is 0, however if she would work this value would be different \\\n",
    "      'truncation' is when we dropping certain values below or above a threshold from the data "
   ]
  },
  {
   "cell_type": "markdown",
   "id": "1823495e",
   "metadata": {},
   "source": [
    "Create new variable and add flag variables for modelling"
   ]
  },
  {
   "cell_type": "code",
   "execution_count": null,
   "id": "f668b5d9",
   "metadata": {},
   "outputs": [],
   "source": [
    "bisnode[\"flag_low_d1_sales_mil_log\"] = np.where(\n",
    "    bisnode[\"d1_sales_mil_log\"] < -1.5, 1, 0\n",
    ")\n",
    "bisnode[\"flag_high_d1_sales_mil_log\"] = np.where(\n",
    "    bisnode[\"d1_sales_mil_log\"] > 1.5, 1, 0\n",
    ")\n",
    "bisnode[\"d1_sales_mil_log_mod\"] = np.where(\n",
    "    bisnode[\"d1_sales_mil_log\"] < -1.5,\n",
    "    -1.5,\n",
    "    np.where(bisnode[\"d1_sales_mil_log\"] > 1.5, 1.5, bisnode[\"d1_sales_mil_log\"]),\n",
    ")"
   ]
  },
  {
   "cell_type": "markdown",
   "id": "1adbf5ef",
   "metadata": {},
   "source": [
    "Repeat random sample to include the new variables"
   ]
  },
  {
   "cell_type": "code",
   "execution_count": null,
   "id": "4e0b5f72",
   "metadata": {},
   "outputs": [],
   "source": [
    "bisnode_sample = bisnode.loc[lambda x: x[\"comp_id\"].isin(comp_id_f)]"
   ]
  },
  {
   "cell_type": "code",
   "execution_count": null,
   "id": "08c8c134",
   "metadata": {},
   "outputs": [],
   "source": [
    "w = (\n",
    "    ggplot(bisnode_sample, aes(x=\"d1_sales_mil_log_mod\", y=\"default\"))\n",
    "    + geom_point(size=1, fill=\"blue\", color=\"blue\")\n",
    "    + geom_smooth(method=\"loess\", se=False, colour=\"red\", size=1.5)\n",
    "    + labs(x=\"Growth rate (Diff of ln sales)\", y=\"default\")\n",
    "    + theme_bw()\n",
    "    + scale_x_continuous(limits=(-1.5, 1.5), breaks=np.arange(-1.5, 1.51, 0.5))\n",
    ")\n",
    "w"
   ]
  },
  {
   "cell_type": "markdown",
   "id": "33f80252",
   "metadata": {},
   "source": [
    "#### Task:\n",
    "Show the effect of winsorizing: transformation of the original data\\\n",
    "put d1_sales_mil_log on x-axis and d1_sales_mil_log_mod to the y-axis"
   ]
  },
  {
   "cell_type": "code",
   "execution_count": null,
   "id": "510aa3ef",
   "metadata": {},
   "outputs": [],
   "source": [
    "(\n",
    "    ggplot(bisnode_sample, aes(x=\"d1_sales_mil_log\", y=\"d1_sales_mil_log_mod\"))\n",
    "    + geom_point(size=1, fill=\"blue\", color=\"blue\")\n",
    "    + labs(\n",
    "        x=\"Growth rate (Diff of ln sales) (original)\",\n",
    "        y=\"Growth rate (Diff of ln sales) (winsorized)\",\n",
    "    )\n",
    "    + theme_bw()\n",
    "    + scale_x_continuous(limits=(-5, 5), breaks=np.arange(-5, 5, 1))\n",
    "    + scale_y_continuous(limits=(-3, 3), breaks=np.arange(-3, 3, 1))\n",
    ")"
   ]
  }
 ],
 "metadata": {
  "kernelspec": {
   "display_name": "Python 3.10.0 64-bit",
   "language": "python",
   "name": "python3"
  },
  "language_info": {
   "codemirror_mode": {
    "name": "ipython",
    "version": 3
   },
   "file_extension": ".py",
   "mimetype": "text/x-python",
   "name": "python",
   "nbconvert_exporter": "python",
   "pygments_lexer": "ipython3",
   "version": "3.10.0"
  },
  "vscode": {
   "interpreter": {
    "hash": "98590ff4fe04c8543246b2a01debd3de3c5ca9b666f43f1fa87d5110c692004c"
   }
  }
 },
 "nbformat": 4,
 "nbformat_minor": 5
}
