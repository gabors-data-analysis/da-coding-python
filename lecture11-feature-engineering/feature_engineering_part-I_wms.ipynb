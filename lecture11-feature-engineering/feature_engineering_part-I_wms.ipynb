{
 "cells": [
  {
   "cell_type": "markdown",
   "id": "ffd867f7",
   "metadata": {},
   "source": [
    "# Lecture 11 - Part I\n",
    "\n",
    "## Feature Engineering <a class=\"anchor\" id=\"TOC\"></a>\n",
    "\n",
    "### World-Management Survey Data \n",
    "                                                               \n",
    "  - Creating new variable(s) from multiple           \n",
    "       already existing (mean of multiple variable)  \n",
    "  - Grouping a categorical variable:                 \n",
    "       countries to continents                       \n",
    "  - Ordered variables:                               \n",
    "     - creating an ordered factor                    \n",
    "         from character or integer                   \n",
    "     - creating an ordered                           \n",
    "         from numeric                                \n",
    "  - Factors or dummy variables:                      \n",
    "       creating multiple dummies                     \n",
    "  - Extra: intro to principal component analysis                                     \n",
    "___"
   ]
  },
  {
   "cell_type": "markdown",
   "id": "c2efd22f",
   "metadata": {},
   "source": [
    "Import packages"
   ]
  },
  {
   "cell_type": "code",
   "execution_count": null,
   "id": "28f5783b",
   "metadata": {},
   "outputs": [],
   "source": [
    "import pandas as pd\n",
    "import numpy as np\n",
    "from plotnine import *\n",
    "import warnings\n",
    "\n",
    "%matplotlib inline\n",
    "warnings.filterwarnings(\"ignore\")"
   ]
  },
  {
   "cell_type": "markdown",
   "id": "2962fad2",
   "metadata": {},
   "source": [
    "Import World-Management Survey Data"
   ]
  },
  {
   "cell_type": "code",
   "execution_count": null,
   "id": "dc90596c",
   "metadata": {},
   "outputs": [],
   "source": [
    "wms  = pd.read_csv(\"https://osf.io/uzpce/download\")\n",
    "\n",
    "wms.head()"
   ]
  },
  {
   "cell_type": "markdown",
   "id": "e56b2f32",
   "metadata": {},
   "source": [
    "### Creating a continuous variable out of ordered variables\n",
    "\n",
    "Trick: lean, perf and talent measures, but multiple variables.\\\n",
    "    1. `filter(regex=)` will select these variables.\n",
    "    2. calculate average with `mean(axis=1)` for each observation"
   ]
  },
  {
   "cell_type": "code",
   "execution_count": null,
   "id": "ec970c36",
   "metadata": {},
   "outputs": [],
   "source": [
    "wms[\"avg_score\"] = wms.filter(regex=\"lean|perf|talent\").mean(axis=1)"
   ]
  },
  {
   "cell_type": "code",
   "execution_count": null,
   "id": "cb837a32",
   "metadata": {},
   "outputs": [],
   "source": [
    "wms[\"avg_score\"].describe()"
   ]
  },
  {
   "cell_type": "markdown",
   "id": "e07f17e7",
   "metadata": {},
   "source": [
    "#### Task:\n",
    "   create the sum of `aa_` variables \\\n",
    "   check that the resulting variable has value of 1 for each observation as `aa_` variables are dummies for industry code"
   ]
  },
  {
   "cell_type": "code",
   "execution_count": null,
   "id": "c35384e1",
   "metadata": {},
   "outputs": [],
   "source": [
    "wms[\"sum_aa\"] = wms.filter(regex=\"aa_\").sum(axis=1)\n",
    "wms[\"sum_aa\"].describe()"
   ]
  },
  {
   "cell_type": "markdown",
   "id": "8a7b93b2",
   "metadata": {},
   "source": [
    "### Grouping categorical\n",
    "\n",
    "Creating groups by continents -> reducing dimensionality of a categorical variable\n"
   ]
  },
  {
   "cell_type": "code",
   "execution_count": null,
   "id": "479416f9",
   "metadata": {},
   "outputs": [],
   "source": [
    "wms[\"country\"].value_counts()"
   ]
  },
  {
   "cell_type": "code",
   "execution_count": null,
   "id": "f7cb57a4",
   "metadata": {},
   "outputs": [],
   "source": [
    "wms[\"country\"].value_counts(normalize = True)"
   ]
  },
  {
   "cell_type": "markdown",
   "id": "bb1230a6",
   "metadata": {},
   "source": [
    "`pycountry_convert` module converts country names to country codes and continents"
   ]
  },
  {
   "cell_type": "code",
   "execution_count": null,
   "id": "022bd5b5",
   "metadata": {},
   "outputs": [],
   "source": [
    "import pycountry_convert as pc"
   ]
  },
  {
   "cell_type": "markdown",
   "id": "413962e1",
   "metadata": {},
   "source": [
    "Note: Norther Ireland is not in this database, so convert it by hand. Also, Ireland has to be trimmed."
   ]
  },
  {
   "cell_type": "code",
   "execution_count": null,
   "id": "017ae785",
   "metadata": {},
   "outputs": [],
   "source": [
    "wms[\"continent\"] = (\n",
    "    wms[\"country\"]\n",
    "    .apply(lambda x: np.where(x == \"Northern Ireland\", \"Ireland\", x))\n",
    "    .apply(lambda x: np.where(x == \"Republic of Ireland\", \"Ireland\", x))\n",
    "    .apply(pc.country_name_to_country_alpha2) # converts country name to country code\n",
    "    .apply(pc.country_alpha2_to_continent_code) # country code to continent code\n",
    "    .apply(pc.convert_continent_code_to_continent_name)# continent code to name\n",
    ")"
   ]
  },
  {
   "cell_type": "code",
   "execution_count": null,
   "id": "f0502238",
   "metadata": {},
   "outputs": [],
   "source": [
    "wms[\"continent\"].value_counts(dropna=False)"
   ]
  },
  {
   "cell_type": "markdown",
   "id": "1ccb91a7",
   "metadata": {},
   "source": [
    " It is also possible to create these groups by hand, with `np.where` command."
   ]
  },
  {
   "cell_type": "code",
   "execution_count": null,
   "id": "25fa017b",
   "metadata": {},
   "outputs": [],
   "source": [
    "wms[\"ownership\"].value_counts(dropna=False)"
   ]
  },
  {
   "cell_type": "code",
   "execution_count": null,
   "id": "a0783faf",
   "metadata": {},
   "outputs": [],
   "source": [
    "wms[\"owner\"] = np.where(\n",
    "    wms[\"ownership\"].isnull(),\n",
    "    np.nan,\n",
    "    np.where(\n",
    "        wms[\"ownership\"] == \"Government\",\n",
    "        \"govt\",\n",
    "        np.where(\n",
    "            wms[\"ownership\"].str.contains(\"family\", regex=False),\n",
    "            \"family\",\n",
    "            np.where(wms[\"ownership\"] == \"Other\", \"other\", \"private\"),\n",
    "        ),\n",
    "    ),\n",
    ")"
   ]
  },
  {
   "cell_type": "code",
   "execution_count": null,
   "id": "4b1de703",
   "metadata": {},
   "outputs": [],
   "source": [
    "wms[\"owner\"].value_counts(dropna=False)"
   ]
  },
  {
   "cell_type": "markdown",
   "id": "3db35114",
   "metadata": {},
   "source": [
    "### Good-to-know: labeled ordered categorical variable: \n",
    "labels are ordered, however difference is only in few application"
   ]
  },
  {
   "cell_type": "code",
   "execution_count": null,
   "id": "6eec8d56",
   "metadata": {},
   "outputs": [],
   "source": [
    "wms[\"lean1_ord\"] = pd.cut(\n",
    "    wms[\"lean1\"], 5, labels=[\"extremly poor\", \"bad\", \"mediocre\", \"good\", \"excellent\"]\n",
    ")"
   ]
  },
  {
   "cell_type": "markdown",
   "id": "29730bd8",
   "metadata": {},
   "source": [
    "Can easily plot"
   ]
  },
  {
   "cell_type": "code",
   "execution_count": null,
   "id": "60866fa2",
   "metadata": {},
   "outputs": [],
   "source": [
    "(\n",
    "    ggplot(wms, aes(x=\"lean1_ord\", y=\"avg_score\"))\n",
    "    + stat_summary(geom=\"point\", fun_data=\"mean_se\", size=8, fill=\"red\")\n",
    "    + labs(x=\"Lean 1 score\", y=\"Mean average management score\")\n",
    "    + theme_bw()\n",
    ")"
   ]
  },
  {
   "cell_type": "markdown",
   "id": "b09b39eb",
   "metadata": {},
   "source": [
    "#### Task:\n",
    "Create the same graph, but using the `talent2` variable instead"
   ]
  },
  {
   "cell_type": "code",
   "execution_count": null,
   "id": "f8f28a2e",
   "metadata": {},
   "outputs": [],
   "source": [
    "wms[\"talent2_ord\"] = pd.cut(\n",
    "    wms[\"talent2\"], 5, labels=[\"extremly poor\", \"bad\", \"mediocre\", \"good\", \"excellent\"]\n",
    ")"
   ]
  },
  {
   "cell_type": "code",
   "execution_count": null,
   "id": "12ec69de",
   "metadata": {},
   "outputs": [],
   "source": [
    "(\n",
    "    ggplot(wms, aes(x=\"talent2_ord\", y=\"avg_score\"))\n",
    "    + stat_summary(geom=\"point\", fun_data=\"mean_se\", size=8, fill=\"red\")\n",
    "    + labs(x=\"Talent 1 score\", y=\"Mean average management score\")\n",
    "    + theme_bw()\n",
    ")"
   ]
  },
  {
   "cell_type": "markdown",
   "id": "bbde8af1",
   "metadata": {},
   "source": [
    "##### Numeric to ordered"
   ]
  },
  {
   "cell_type": "markdown",
   "id": "3fac39b8",
   "metadata": {},
   "source": [
    "It is hard to get any conclusion if we plot the pattern between \n",
    "   average management score and number of employees"
   ]
  },
  {
   "cell_type": "code",
   "execution_count": null,
   "id": "a782e6aa",
   "metadata": {},
   "outputs": [],
   "source": [
    "(\n",
    "    ggplot(wms, aes(x=\"emp_firm\", y=\"avg_score\"))\n",
    "    + geom_point(color=\"red\", size=2, alpha=0.6)\n",
    "    + labs(x=\"Number of employees\", y=\"Mean average management score\")\n",
    "    + theme_bw()\n",
    ")"
   ]
  },
  {
   "cell_type": "markdown",
   "id": "59bd2549",
   "metadata": {},
   "source": [
    "One simple way to solve this issue:\\\n",
    "Simplifying firm size: creating categories from numeric"
   ]
  },
  {
   "cell_type": "code",
   "execution_count": null,
   "id": "08c66aa7",
   "metadata": {},
   "outputs": [],
   "source": [
    "wms[\"emp_cat\"] = pd.cut(\n",
    "    wms[\"emp_firm\"], bins=[0, 200, 1000, np.inf], labels=[\"small\", \"medium\", \"large\"]\n",
    ")"
   ]
  },
  {
   "cell_type": "code",
   "execution_count": null,
   "id": "c47440d7",
   "metadata": {},
   "outputs": [],
   "source": [
    "(\n",
    "    ggplot(\n",
    "        wms.loc[\n",
    "            lambda x: x[\"emp_cat\"].notnull(),\n",
    "        ],\n",
    "        aes(x=\"emp_cat\", y=\"avg_score\"),\n",
    "    )\n",
    "    + stat_summary(geom=\"point\", fun_data=\"mean_se\", size=8, fill=\"red\", na_rm=True)\n",
    "    + labs(x=\"Firm size\", y=\"Mean average management score\")\n",
    "    + theme_bw()\n",
    ")"
   ]
  },
  {
   "cell_type": "markdown",
   "id": "9d2cac05",
   "metadata": {},
   "source": [
    "### Factors Or Dummies"
   ]
  },
  {
   "cell_type": "markdown",
   "id": "55e21f08",
   "metadata": {},
   "source": [
    "Creating multiple factor dummy from a categorical"
   ]
  },
  {
   "cell_type": "code",
   "execution_count": null,
   "id": "83d577a8",
   "metadata": {},
   "outputs": [],
   "source": [
    "dummies = pd.get_dummies(wms[\"emp_cat\"], dummy_na = True)\n",
    "dummies"
   ]
  },
  {
   "cell_type": "markdown",
   "id": "0aff059d",
   "metadata": {},
   "source": [
    "You can easily concatenate this to the original dataframe"
   ]
  },
  {
   "cell_type": "code",
   "execution_count": null,
   "id": "2fe6bd65",
   "metadata": {},
   "outputs": [],
   "source": [
    "wms = pd.concat([wms,dummies],axis=1)\n",
    "wms.head()"
   ]
  },
  {
   "cell_type": "markdown",
   "id": "74a5e516",
   "metadata": {},
   "source": [
    "### Extra:\n",
    "\n",
    "principle component analysis or PCA\n",
    "\n",
    "One can argue, that the mean of the score is not the best measure, as it takes each value with the same weight \\\n",
    "An alternative solution is creating principal components, which transform the original variables."
   ]
  },
  {
   "cell_type": "markdown",
   "id": "cc9bc3dc",
   "metadata": {},
   "source": [
    "import PCA function from sklearn"
   ]
  },
  {
   "cell_type": "code",
   "execution_count": null,
   "id": "9a73d32e",
   "metadata": {},
   "outputs": [],
   "source": [
    "from sklearn.decomposition import PCA"
   ]
  },
  {
   "cell_type": "markdown",
   "id": "fdd9ab12",
   "metadata": {},
   "source": [
    "Let us create principle components with all the questionnaires. \\\n",
    "have to make sure there is no NA value"
   ]
  },
  {
   "cell_type": "code",
   "execution_count": null,
   "id": "b02c7ebb",
   "metadata": {},
   "outputs": [],
   "source": [
    "original_variables = wms.filter(regex=\"lean|perf|talent\").filter(regex=\"^(?!.*ord).*$\").dropna()\n",
    "original_variables.shape"
   ]
  },
  {
   "cell_type": "markdown",
   "id": "e3eb4c9c",
   "metadata": {},
   "source": [
    "fit PCA model"
   ]
  },
  {
   "cell_type": "code",
   "execution_count": null,
   "id": "a44c7560",
   "metadata": {},
   "outputs": [],
   "source": [
    "pca = PCA()\n",
    "\n",
    "pca.fit(original_variables)"
   ]
  },
  {
   "cell_type": "markdown",
   "id": "a9541bff",
   "metadata": {},
   "source": [
    "We have the same number of variables, but they are transformed.\n",
    "\n",
    "As PCA is an information reductionist approach, we can see, \n",
    "     which transformed variable explains what percent of the overall information (variation)"
   ]
  },
  {
   "cell_type": "code",
   "execution_count": null,
   "id": "1de3ed38",
   "metadata": {},
   "outputs": [],
   "source": [
    "pca.explained_variance_ratio_"
   ]
  },
  {
   "cell_type": "markdown",
   "id": "24a5f909",
   "metadata": {},
   "source": [
    "Let us decide to use only the first variable, which explains 45.6%"
   ]
  },
  {
   "cell_type": "code",
   "execution_count": null,
   "id": "fb3b77bc",
   "metadata": {},
   "outputs": [],
   "source": [
    "pca_components = pd.DataFrame(\n",
    "    pca.fit_transform(original_variables),\n",
    "    columns=[\"PC%s\" % str(i + 1) for i in range(len(original_variables.columns))],\n",
    ")\n",
    "pca_components.shape"
   ]
  },
  {
   "cell_type": "markdown",
   "id": "9ef58ff9",
   "metadata": {},
   "source": [
    "aux: add firmid and wave with same filter to match PCs to wms data"
   ]
  },
  {
   "cell_type": "code",
   "execution_count": null,
   "id": "a0975e5d",
   "metadata": {},
   "outputs": [],
   "source": [
    "aux = (\n",
    "    wms.filter(regex=\"lean|perf|talent|wave|firmid\")\n",
    "    .filter(regex=\"^(?!.*ord).*$\")\n",
    "    .dropna()\n",
    "    .filter([\"wave\", \"firmid\"])\n",
    "    .reset_index(drop=True)\n",
    ")\n",
    "aux.shape"
   ]
  },
  {
   "cell_type": "markdown",
   "id": "0aedf82f",
   "metadata": {},
   "source": [
    "add firmid wave and only PC0 from pca-s"
   ]
  },
  {
   "cell_type": "code",
   "execution_count": null,
   "id": "e9bd0df8",
   "metadata": {},
   "outputs": [],
   "source": [
    "pca_dataframe = pd.concat([aux, pca_components[\"PC1\"]], axis=1)\n",
    "\n",
    "pca_dataframe.shape"
   ]
  },
  {
   "cell_type": "markdown",
   "id": "f0e403a4",
   "metadata": {},
   "source": [
    "add to wms data"
   ]
  },
  {
   "cell_type": "code",
   "execution_count": null,
   "id": "bd96a835",
   "metadata": {},
   "outputs": [],
   "source": [
    "wms = wms.merge(pca_dataframe, on = [\"firmid\",\"wave\"],how=\"left\")"
   ]
  },
  {
   "cell_type": "markdown",
   "id": "7945082d",
   "metadata": {},
   "source": [
    "Compare descriptives with average score\n"
   ]
  },
  {
   "cell_type": "code",
   "execution_count": null,
   "id": "36fa07dc",
   "metadata": {},
   "outputs": [],
   "source": [
    "wms.filter([\"avg_score\", \"PC1\"]).describe()"
   ]
  },
  {
   "cell_type": "markdown",
   "id": "7c730a39",
   "metadata": {},
   "source": [
    "Create a bin-scatter with PC1"
   ]
  },
  {
   "cell_type": "code",
   "execution_count": null,
   "id": "e3e9b470",
   "metadata": {},
   "outputs": [],
   "source": [
    "(\n",
    "    ggplot(\n",
    "        wms.loc[\n",
    "            lambda x: x[\"emp_cat\"].notnull(),\n",
    "        ],\n",
    "        aes(x=\"emp_cat\", y=\"PC1\"),\n",
    "    )\n",
    "    + stat_summary(geom=\"point\", fun_data=\"mean_se\", size=8, fill=\"red\", na_rm=True)\n",
    "    + labs(x=\"Firm size\", y=\"Principal component\")\n",
    "    + theme_bw()\n",
    ")"
   ]
  },
  {
   "cell_type": "markdown",
   "id": "9c71650e",
   "metadata": {},
   "source": [
    "Notes: \n",
    "  1) PCA is especially useful when you have too many explanatory variables and want to reduce num vars, \n",
    "      with minimal information loss. However, should use it with care, especially with time series! \\\n",
    "  2) There are many variations of PCA, if one starts to `rotate` the factors \n",
    "      to make some meaningful variables out of it (especially in psychology) \\\n",
    "  3) There are many packages, which carry out PCA, this is pretty much the simplest intro here... \\"
   ]
  }
 ],
 "metadata": {
  "kernelspec": {
   "display_name": "Python 3.10.0 64-bit",
   "language": "python",
   "name": "python3"
  },
  "language_info": {
   "codemirror_mode": {
    "name": "ipython",
    "version": 3
   },
   "file_extension": ".py",
   "mimetype": "text/x-python",
   "name": "python",
   "nbconvert_exporter": "python",
   "pygments_lexer": "ipython3",
   "version": "3.10.0"
  },
  "vscode": {
   "interpreter": {
    "hash": "98590ff4fe04c8543246b2a01debd3de3c5ca9b666f43f1fa87d5110c692004c"
   }
  }
 },
 "nbformat": 4,
 "nbformat_minor": 5
}
